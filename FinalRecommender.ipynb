{
 "cells": [
  {
   "cell_type": "code",
   "execution_count": 1,
   "id": "initial_id",
   "metadata": {
    "collapsed": true,
    "ExecuteTime": {
     "end_time": "2024-04-30T18:24:34.088591600Z",
     "start_time": "2024-04-30T18:24:22.906606100Z"
    }
   },
   "outputs": [],
   "source": [
    "import random\n",
    "import pandas as pd\n",
    "import numpy as np\n",
    "from sklearn.metrics.pairwise import cosine_similarity\n",
    "\n",
    "import torch\n",
    "from torch.utils.data import Dataset, DataLoader, random_split\n",
    "from sentence_transformers import SentenceTransformer, InputExample, losses, models, datasets, evaluation, util"
   ]
  },
  {
   "cell_type": "markdown",
   "source": [
    "#### 1. Input a movie index, return recommendations:"
   ],
   "metadata": {
    "collapsed": false
   },
   "id": "c813cd5169b28d24"
  },
  {
   "cell_type": "code",
   "execution_count": 2,
   "outputs": [],
   "source": [
    "def recommend_movies_with_index(movies_, embeddings, movie_index, k):\n",
    "    if movie_index >= movies_.shape[0]:\n",
    "        print(f'Invalid movie index {movie_index}!')\n",
    "        return\n",
    "    \n",
    "    k = 5 if k <= 0 else k\n",
    "    \n",
    "    movie_emb = embeddings[movie_index]  # find the corresponding embedding vector first \n",
    "    cos_simi = cosine_similarity([movie_emb], embeddings)[0]  # compute the similarity to all movies\n",
    "    \n",
    "    top_indices = np.argsort(-cos_simi)[1:k+1]  # because the largest cosine similarity must be with itself\n",
    "    rec_movies = movies_.iloc[top_indices]  # get the recommendation movies -> DataFrame\n",
    "\n",
    "    print(f'The movie {movie_index}: {movies_.title.iloc[movie_index]} \\t Genres: {movies_.AllGenres.iloc[movie_index]}')\n",
    "    print(f'Top {k} recommendations:')\n",
    "    \n",
    "    for index, movie in rec_movies.iterrows():\n",
    "        print('{:<5} {:<35} {}'.format(f'{index}.', f'{movie[\"title\"]}', f'Genres: {movie[\"AllGenres\"]}'))"
   ],
   "metadata": {
    "collapsed": false,
    "ExecuteTime": {
     "end_time": "2024-04-30T18:25:20.743159700Z",
     "start_time": "2024-04-30T18:25:20.723822400Z"
    }
   },
   "id": "a544d8ee17cf8838"
  },
  {
   "cell_type": "markdown",
   "source": [
    "#### 2. Input a list of movie(s), return recommendations: "
   ],
   "metadata": {
    "collapsed": false
   },
   "id": "aad64e4ca566cc42"
  },
  {
   "cell_type": "code",
   "execution_count": 3,
   "outputs": [],
   "source": [
    "def recommend_movies_with_titles(titles, movies_, embeddings, k):\n",
    "    k = 5 if k <= 0 else k\n",
    "    \n",
    "    movies_input = movies_[movies_['title'].isin(titles)]  # All input movies\n",
    "    movies_remaining = movies_[~movies_['title'].isin(titles)]  # All remaining movies\n",
    "    \n",
    "    movies_input_emb = embeddings[movies_input.index]  # embeddings is np.array\n",
    "    combined_emb = np.mean(movies_input_emb, axis=0)\n",
    "    \n",
    "    movies_remaining_emb = embeddings[movies_remaining.index]\n",
    "    \n",
    "    cos_simi = cosine_similarity([combined_emb], movies_remaining_emb)[0]\n",
    "    \n",
    "    top_indices = np.argsort(-cos_simi)[:k]\n",
    "    recommend_movies = movies_remaining.iloc[top_indices]\n",
    "    \n",
    "    print(f'Top {k} recommendations:')\n",
    "    for index, movie in recommend_movies.iterrows():\n",
    "        print('{:<5} {:<35} {}'.format(f'{index}.', f'{movie[\"title\"]}', f'Genres: {movie[\"AllGenres\"]}'))"
   ],
   "metadata": {
    "collapsed": false,
    "ExecuteTime": {
     "end_time": "2024-04-30T18:25:22.160270200Z",
     "start_time": "2024-04-30T18:25:22.133689400Z"
    }
   },
   "id": "3a896a4862a4069e"
  },
  {
   "cell_type": "markdown",
   "source": [
    "#### 3. Input User ID, return recommendations:"
   ],
   "metadata": {
    "collapsed": false
   },
   "id": "c6d473668fdccdc4"
  },
  {
   "cell_type": "code",
   "execution_count": 4,
   "outputs": [],
   "source": [
    "def recommend_movies_with_history(user_id, ratings_, movies_, embeddings, k):\n",
    "    user_list = ratings_['userId'].unique().tolist()\n",
    "    if user_id not in user_list:\n",
    "        print(f'Cannot find user {user_id}')\n",
    "        return \n",
    "    \n",
    "    user_history = ratings_[ratings_['userId'] == user_id]\n",
    "    user_history_id = user_history['movieId'].tolist()\n",
    "    \n",
    "    history_titles = movies_[movies_['id'].isin(user_history_id)]\n",
    "    history_titles = history_titles['title'].tolist()\n",
    "    \n",
    "    recommend_movies_with_titles(history_titles, movies_, embeddings, k)"
   ],
   "metadata": {
    "collapsed": false,
    "ExecuteTime": {
     "end_time": "2024-04-30T18:25:23.556732800Z",
     "start_time": "2024-04-30T18:25:23.545514700Z"
    }
   },
   "id": "57aa8b82f224c12a"
  },
  {
   "cell_type": "markdown",
   "source": [
    "#### Load the datasets:"
   ],
   "metadata": {
    "collapsed": false
   },
   "id": "ea27caf9480fb5c7"
  },
  {
   "cell_type": "code",
   "execution_count": 5,
   "outputs": [
    {
     "data": {
      "text/plain": "      id                        title                 AllGenres  \\\n0    862                    Toy Story   Animation,Comedy,Family   \n1   8844                      Jumanji  Adventure,Fantasy,Family   \n2  15602             Grumpier Old Men            Romance,Comedy   \n3  31357            Waiting to Exhale      Comedy,Drama,Romance   \n4  11862  Father of the Bride Part II                    Comedy   \n\n                                         AllKeywords  \n0        rivalry,toy comes to life,boy next door,toy  \n1                                                     \n2   fishing,best friend,duringcreditsstinger,old men  \n3  divorce,chick flick,interracial relationship,s...  \n4   mother daughter relationship,baby,aging,daughter  ",
      "text/html": "<div>\n<style scoped>\n    .dataframe tbody tr th:only-of-type {\n        vertical-align: middle;\n    }\n\n    .dataframe tbody tr th {\n        vertical-align: top;\n    }\n\n    .dataframe thead th {\n        text-align: right;\n    }\n</style>\n<table border=\"1\" class=\"dataframe\">\n  <thead>\n    <tr style=\"text-align: right;\">\n      <th></th>\n      <th>id</th>\n      <th>title</th>\n      <th>AllGenres</th>\n      <th>AllKeywords</th>\n    </tr>\n  </thead>\n  <tbody>\n    <tr>\n      <th>0</th>\n      <td>862</td>\n      <td>Toy Story</td>\n      <td>Animation,Comedy,Family</td>\n      <td>rivalry,toy comes to life,boy next door,toy</td>\n    </tr>\n    <tr>\n      <th>1</th>\n      <td>8844</td>\n      <td>Jumanji</td>\n      <td>Adventure,Fantasy,Family</td>\n      <td></td>\n    </tr>\n    <tr>\n      <th>2</th>\n      <td>15602</td>\n      <td>Grumpier Old Men</td>\n      <td>Romance,Comedy</td>\n      <td>fishing,best friend,duringcreditsstinger,old men</td>\n    </tr>\n    <tr>\n      <th>3</th>\n      <td>31357</td>\n      <td>Waiting to Exhale</td>\n      <td>Comedy,Drama,Romance</td>\n      <td>divorce,chick flick,interracial relationship,s...</td>\n    </tr>\n    <tr>\n      <th>4</th>\n      <td>11862</td>\n      <td>Father of the Bride Part II</td>\n      <td>Comedy</td>\n      <td>mother daughter relationship,baby,aging,daughter</td>\n    </tr>\n  </tbody>\n</table>\n</div>"
     },
     "execution_count": 5,
     "metadata": {},
     "output_type": "execute_result"
    }
   ],
   "source": [
    "movies_all_path = 'dataset/movies_with_keywords.csv'\n",
    "movies_small_path = 'dataset/movies_5000.csv'\n",
    "ratings_for_history_path = 'dataset/ratings_for_history.csv'\n",
    "ratings_for_history_small_path = 'dataset/ratings_for_history_small.csv'\n",
    "\n",
    "movies = pd.read_csv(movies_all_path, keep_default_na=False, dtype=str)\n",
    "movies_5000 = pd.read_csv(movies_small_path, keep_default_na=False, dtype=str)\n",
    "ratings_for_history = pd.read_csv(ratings_for_history_path, dtype=str)\n",
    "ratings_for_history_small = pd.read_csv(ratings_for_history_small_path, dtype=str)\n",
    "\n",
    "movies.head()"
   ],
   "metadata": {
    "collapsed": false,
    "ExecuteTime": {
     "end_time": "2024-04-30T18:25:25.715113900Z",
     "start_time": "2024-04-30T18:25:25.564901300Z"
    }
   },
   "id": "65d606f1c8a1438a"
  },
  {
   "cell_type": "code",
   "execution_count": 6,
   "outputs": [
    {
     "name": "stdout",
     "output_type": "stream",
     "text": [
      "<class 'pandas.core.frame.DataFrame'>\n",
      "RangeIndex: 45429 entries, 0 to 45428\n",
      "Data columns (total 4 columns):\n",
      " #   Column       Non-Null Count  Dtype \n",
      "---  ------       --------------  ----- \n",
      " 0   id           45429 non-null  object\n",
      " 1   title        45429 non-null  object\n",
      " 2   AllGenres    45429 non-null  object\n",
      " 3   AllKeywords  45429 non-null  object\n",
      "dtypes: object(4)\n",
      "memory usage: 1.4+ MB\n"
     ]
    }
   ],
   "source": [
    "movies.info()"
   ],
   "metadata": {
    "collapsed": false,
    "ExecuteTime": {
     "end_time": "2024-04-30T18:25:26.819213Z",
     "start_time": "2024-04-30T18:25:26.786354400Z"
    }
   },
   "id": "1a1941194b117cff"
  },
  {
   "cell_type": "markdown",
   "source": [
    "#### Load the model, and encode the words (descriptions -> titles + genres + keywords):"
   ],
   "metadata": {
    "collapsed": false
   },
   "id": "875d2791c5bcf31"
  },
  {
   "cell_type": "code",
   "execution_count": 7,
   "outputs": [
    {
     "name": "stdout",
     "output_type": "stream",
     "text": [
      "cuda:0\n"
     ]
    }
   ],
   "source": [
    "device = torch.device('cuda:0' if torch.cuda.is_available() else 'cpu')\n",
    "model = SentenceTransformer('distilbert-base-nli-mean-tokens').to(device)\n",
    "print(device)"
   ],
   "metadata": {
    "collapsed": false,
    "ExecuteTime": {
     "end_time": "2024-04-30T18:25:32.887662500Z",
     "start_time": "2024-04-30T18:25:30.535772300Z"
    }
   },
   "id": "5c59e6dcb6b05d97"
  },
  {
   "cell_type": "code",
   "execution_count": 8,
   "outputs": [
    {
     "data": {
      "text/plain": "['Grumpier Old Men,Romance,Comedy,fishing,best friend,duringcreditsstinger,old men',\n 'Waiting to Exhale,Comedy,Drama,Romance,divorce,chick flick,interracial relationship,single mother',\n 'GoldenEye,Adventure,Action,Thriller,red army,electromagnetic pulse,special car,computer virus',\n 'Money Train,Action,Comedy,Crime,subway,brother brother relationship,new york subway,train robbery',\n 'Twelve Monkeys,Science Fiction,Thriller,Mystery,monkey,dystopia,stockholm syndrome,subterranean']"
     },
     "execution_count": 8,
     "metadata": {},
     "output_type": "execute_result"
    }
   ],
   "source": [
    "names_genres_keywords = movies_5000['title'] + ',' + movies_5000['AllGenres'] + ',' + movies_5000['AllKeywords']\n",
    "names_genres_keywords = names_genres_keywords.tolist()\n",
    "names_genres_keywords[:5]"
   ],
   "metadata": {
    "collapsed": false,
    "ExecuteTime": {
     "end_time": "2024-04-30T18:25:54.873430800Z",
     "start_time": "2024-04-30T18:25:54.849909700Z"
    }
   },
   "id": "47fa89e391020cca"
  },
  {
   "cell_type": "code",
   "execution_count": 9,
   "outputs": [
    {
     "data": {
      "text/plain": "Batches:   0%|          | 0/157 [00:00<?, ?it/s]",
      "application/vnd.jupyter.widget-view+json": {
       "version_major": 2,
       "version_minor": 0,
       "model_id": "05ce2a16c62a41b4a9530035a7cbdda5"
      }
     },
     "metadata": {},
     "output_type": "display_data"
    }
   ],
   "source": [
    "embedding = model.encode(names_genres_keywords, show_progress_bar=True)\n",
    "embedding = np.array(embedding)"
   ],
   "metadata": {
    "collapsed": false,
    "ExecuteTime": {
     "end_time": "2024-04-30T18:26:07.378096800Z",
     "start_time": "2024-04-30T18:25:58.288020800Z"
    }
   },
   "id": "df3c2c860622d97c"
  },
  {
   "cell_type": "markdown",
   "source": [
    "#### Test my three functions:"
   ],
   "metadata": {
    "collapsed": false
   },
   "id": "79303c6fdc9eb2ea"
  },
  {
   "cell_type": "code",
   "execution_count": 10,
   "outputs": [
    {
     "name": "stdout",
     "output_type": "stream",
     "text": [
      "The movie 679: The Lawless Heart \t Genres: Drama,Comedy,Romance\n",
      "Top 5 recommendations:\n",
      "3238. Banning                             Genres: Romance,Drama\n",
      "993.  The Night We Never Met              Genres: Romance,Comedy,Drama\n",
      "4464. Freelance                           Genres: Comedy,Romance,Drama\n",
      "1781. Heartbreaker                        Genres: Romance,Comedy\n",
      "11.   Mr. Wrong                           Genres: Comedy,Romance\n"
     ]
    }
   ],
   "source": [
    "recommend_movies_with_index(movies_5000, embedding, 679, 5)"
   ],
   "metadata": {
    "collapsed": false,
    "ExecuteTime": {
     "end_time": "2024-04-30T18:26:10.896465600Z",
     "start_time": "2024-04-30T18:26:10.865295800Z"
    }
   },
   "id": "d839c81436519282"
  },
  {
   "cell_type": "code",
   "execution_count": 11,
   "outputs": [
    {
     "name": "stdout",
     "output_type": "stream",
     "text": [
      "Top 5 recommendations:\n",
      "679.  The Lawless Heart                   Genres: Drama,Comedy,Romance\n",
      "4958. Between Us                          Genres: Drama,Comedy,Romance\n",
      "2584. Luv                                 Genres: Romance,Comedy\n",
      "1426. Flakes                              Genres: Comedy,Romance\n",
      "4750. The Matrimaniac                     Genres: Romance,Comedy\n"
     ]
    }
   ],
   "source": [
    "inputs = ['Mr. Wrong', 'Heartbreaker', 'Freelance', 'The Night We Never Met']\n",
    "recommend_movies_with_titles(inputs, movies_5000, embedding, 5)"
   ],
   "metadata": {
    "collapsed": false,
    "ExecuteTime": {
     "end_time": "2024-04-30T18:26:12.625268500Z",
     "start_time": "2024-04-30T18:26:12.570641500Z"
    }
   },
   "id": "30671906ba1e0759"
  },
  {
   "cell_type": "code",
   "execution_count": 12,
   "outputs": [
    {
     "name": "stdout",
     "output_type": "stream",
     "text": [
      "Top 5 recommendations:\n",
      "1933. Deadfall                            Genres: Crime,Drama,Thriller\n",
      "790.  The Chase                           Genres: Thriller,Drama,Crime\n",
      "413.  Nekromantik                         Genres: Drama,Horror\n",
      "4265. Captain Fantastic                   Genres: Adventure,Comedy,Drama,Romance\n",
      "1063. Boogeyman                           Genres: Thriller,Horror,Drama,Mystery\n"
     ]
    }
   ],
   "source": [
    "UserId = '7'\n",
    "recommend_movies_with_history(UserId, ratings_for_history_small, movies_5000, embedding, 5)"
   ],
   "metadata": {
    "collapsed": false,
    "ExecuteTime": {
     "end_time": "2024-04-30T18:26:14.541059200Z",
     "start_time": "2024-04-30T18:26:14.503656300Z"
    }
   },
   "id": "79b7de667f692a8a"
  },
  {
   "cell_type": "markdown",
   "source": [
    "## Above is just testing my functions.\n",
    "## Now we can finally fine tune the model!!!"
   ],
   "metadata": {
    "collapsed": false
   },
   "id": "4b14f4f98ace264c"
  },
  {
   "cell_type": "markdown",
   "source": [
    "#### The function compute the similarity of two movies:\n",
    "Only consider genres, because there are way too many different keywords. But of course, if two movies have same keywords, which implies a much stronger correlation than merely having similar genres.\n",
    "\n",
    "This can be used for improvement in the future."
   ],
   "metadata": {
    "collapsed": false
   },
   "id": "c8005dec1cce8607"
  },
  {
   "cell_type": "code",
   "execution_count": 13,
   "outputs": [],
   "source": [
    "def if_similar(movie1, movie2):\n",
    "    genres1 = set(movie1['AllGenres'].strip().split(','))\n",
    "    genres2 = set(movie2['AllGenres'].strip().split(','))\n",
    "    \n",
    "    min_len = min(len(genres1), len(genres2))  # the minimum of two lengths\n",
    "    if min_len == 0:\n",
    "        return 0.1  # I think return 0.1 instead of 0.0 is more appropriate (it's just my silly thought, maybe is not) \n",
    "    \n",
    "    common_genres = genres1 & genres2  # Find the overlapped genres\n",
    "    common_genres_num = len(common_genres)\n",
    "    \n",
    "    similarity = (common_genres_num / float(min_len))\n",
    "    \n",
    "    return round(similarity, 2)"
   ],
   "metadata": {
    "collapsed": false,
    "ExecuteTime": {
     "end_time": "2024-04-30T18:26:35.172231900Z",
     "start_time": "2024-04-30T18:26:35.161848600Z"
    }
   },
   "id": "f8eb90466ad651a4"
  },
  {
   "cell_type": "code",
   "execution_count": 14,
   "outputs": [],
   "source": [
    "class MyDataset(Dataset):\n",
    "    def __init__(self, data):\n",
    "        self.data = data\n",
    "    \n",
    "    def __len__(self):\n",
    "        return len(self.data)\n",
    "    \n",
    "    def __getitem__(self, idx):\n",
    "        return self.data[idx]"
   ],
   "metadata": {
    "collapsed": false,
    "ExecuteTime": {
     "end_time": "2024-04-30T18:26:36.284310400Z",
     "start_time": "2024-04-30T18:26:36.261286800Z"
    }
   },
   "id": "dc1ba6979aab3769"
  },
  {
   "cell_type": "code",
   "execution_count": 15,
   "outputs": [],
   "source": [
    "# class MyDataset(Dataset):\n",
    "#     def __init__(self, data):\n",
    "#         super(MyDataset, self).__init__()\n",
    "#         self.data = data\n",
    "# \n",
    "#     def __len__(self):\n",
    "#         return len(self.data)\n",
    "# \n",
    "#     def __getitem__(self, idx):\n",
    "#         example = self.data[idx]\n",
    "#         texts = (example.texts[0], example.texts[1])\n",
    "#         label = example.label\n",
    "#         return texts, label"
   ],
   "metadata": {
    "collapsed": false,
    "ExecuteTime": {
     "end_time": "2024-04-30T18:26:38.093827400Z",
     "start_time": "2024-04-30T18:26:38.072784500Z"
    }
   },
   "id": "646a8ef5e14a3723"
  },
  {
   "cell_type": "markdown",
   "source": [
    "#### Now generate data for training. Randomly selecting 100 movies can actually generate (99 + 0) x 100 / 2 = 4950 data points\n",
    "By the way, I'm using the subset of movies here, and we can also use the full movies' dataset. It's the same thing, because the number of generated data points only related to the \"movies_num\" variable here."
   ],
   "metadata": {
    "collapsed": false
   },
   "id": "d94040b55a45fe3"
  },
  {
   "cell_type": "code",
   "execution_count": 16,
   "outputs": [
    {
     "name": "stdout",
     "output_type": "stream",
     "text": [
      "4950 data points in total\n",
      "<InputExample> label: 0.0, texts: Glengarry Glen Ross,Crime,Drama,Mystery,company,real estate,shop,pressure; Escape from New York,Science Fiction,Action,reluctant hero,anti hero,police operation,hostage\n"
     ]
    }
   ],
   "source": [
    "movies_num = 100\n",
    "sample_index = np.random.choice(range(len(movies_5000)), size=movies_num, replace=False)\n",
    "sample_index = np.sort(sample_index)\n",
    "\n",
    "examples = []\n",
    "for i in sample_index:\n",
    "    movie1 = movies.iloc[i]\n",
    "    for j in sample_index:\n",
    "        if j > i:\n",
    "            movie2 = movies.iloc[j]\n",
    "            similarity = if_similar(movie1, movie2)\n",
    "            \n",
    "            examples.append(InputExample(texts=[movie1['title'] + ',' + movie1['AllGenres'] + ',' +  movie1['AllKeywords'], movie2['title'] + ',' + movie2['AllGenres'] + ',' + movie2['AllKeywords']], label=similarity))\n",
    "\n",
    "print(f'{len(examples)} data points in total')\n",
    "print(examples[2024])"
   ],
   "metadata": {
    "collapsed": false,
    "ExecuteTime": {
     "end_time": "2024-04-30T18:26:42.006569700Z",
     "start_time": "2024-04-30T18:26:41.718966800Z"
    }
   },
   "id": "739b408a31e07354"
  },
  {
   "cell_type": "code",
   "execution_count": 17,
   "outputs": [
    {
     "data": {
      "text/plain": "'Glengarry Glen Ross,Crime,Drama,Mystery,company,real estate,shop,pressure'"
     },
     "execution_count": 17,
     "metadata": {},
     "output_type": "execute_result"
    }
   ],
   "source": [
    "text = examples[2024].texts[0]\n",
    "text"
   ],
   "metadata": {
    "collapsed": false,
    "ExecuteTime": {
     "end_time": "2024-04-30T18:26:51.315901500Z",
     "start_time": "2024-04-30T18:26:51.303947100Z"
    }
   },
   "id": "7297720f01014a5c"
  },
  {
   "cell_type": "code",
   "execution_count": 18,
   "outputs": [
    {
     "name": "stdout",
     "output_type": "stream",
     "text": [
      "310\n"
     ]
    }
   ],
   "source": [
    "my_dataset = MyDataset(examples)\n",
    "train_loader = DataLoader(my_dataset, batch_size=16, shuffle=True)\n",
    "\n",
    "print(len(train_loader))"
   ],
   "metadata": {
    "collapsed": false,
    "ExecuteTime": {
     "end_time": "2024-04-30T18:27:00.020028400Z",
     "start_time": "2024-04-30T18:26:59.993245100Z"
    }
   },
   "id": "9f23ccb614ebfc69"
  },
  {
   "cell_type": "code",
   "execution_count": 19,
   "outputs": [],
   "source": [
    "# my_dataset = MyDataset(examples)\n",
    "# \n",
    "# train_size = int(0.9 * len(my_dataset))\n",
    "# val_size = len(my_dataset) - train_size\n",
    "# \n",
    "# train_data, val_data = random_split(my_dataset, [train_size, val_size])\n",
    "# \n",
    "# train_loader = DataLoader(train_data, batch_size=16, shuffle=True)\n",
    "# val_loader = DataLoader(val_data, batch_size=16, shuffle=False)"
   ],
   "metadata": {
    "collapsed": false,
    "ExecuteTime": {
     "end_time": "2024-04-30T18:27:15.546976800Z",
     "start_time": "2024-04-30T18:27:15.535962300Z"
    }
   },
   "id": "b8dc784ed073a409"
  },
  {
   "cell_type": "code",
   "execution_count": 20,
   "outputs": [
    {
     "data": {
      "text/plain": "Epoch:   0%|          | 0/10 [00:00<?, ?it/s]",
      "application/vnd.jupyter.widget-view+json": {
       "version_major": 2,
       "version_minor": 0,
       "model_id": "76f19eb8f2e4452e8744724a20fef446"
      }
     },
     "metadata": {},
     "output_type": "display_data"
    },
    {
     "data": {
      "text/plain": "Iteration:   0%|          | 0/310 [00:00<?, ?it/s]",
      "application/vnd.jupyter.widget-view+json": {
       "version_major": 2,
       "version_minor": 0,
       "model_id": "29938e364d5e467c9af0146f5b6167ab"
      }
     },
     "metadata": {},
     "output_type": "display_data"
    },
    {
     "data": {
      "text/plain": "Iteration:   0%|          | 0/310 [00:00<?, ?it/s]",
      "application/vnd.jupyter.widget-view+json": {
       "version_major": 2,
       "version_minor": 0,
       "model_id": "add29d443e8e4983b40331032ea16241"
      }
     },
     "metadata": {},
     "output_type": "display_data"
    },
    {
     "data": {
      "text/plain": "Iteration:   0%|          | 0/310 [00:00<?, ?it/s]",
      "application/vnd.jupyter.widget-view+json": {
       "version_major": 2,
       "version_minor": 0,
       "model_id": "eee4d5c755494b9e8954d59869557803"
      }
     },
     "metadata": {},
     "output_type": "display_data"
    },
    {
     "data": {
      "text/plain": "Iteration:   0%|          | 0/310 [00:00<?, ?it/s]",
      "application/vnd.jupyter.widget-view+json": {
       "version_major": 2,
       "version_minor": 0,
       "model_id": "51222a85bfac4ca09ab72a006b70f9b8"
      }
     },
     "metadata": {},
     "output_type": "display_data"
    },
    {
     "data": {
      "text/plain": "Iteration:   0%|          | 0/310 [00:00<?, ?it/s]",
      "application/vnd.jupyter.widget-view+json": {
       "version_major": 2,
       "version_minor": 0,
       "model_id": "51fc36abaab84e52a3982a3d6d3a66cb"
      }
     },
     "metadata": {},
     "output_type": "display_data"
    },
    {
     "data": {
      "text/plain": "Iteration:   0%|          | 0/310 [00:00<?, ?it/s]",
      "application/vnd.jupyter.widget-view+json": {
       "version_major": 2,
       "version_minor": 0,
       "model_id": "c8f15a00ed034e3a82bc03c98025acb1"
      }
     },
     "metadata": {},
     "output_type": "display_data"
    },
    {
     "data": {
      "text/plain": "Iteration:   0%|          | 0/310 [00:00<?, ?it/s]",
      "application/vnd.jupyter.widget-view+json": {
       "version_major": 2,
       "version_minor": 0,
       "model_id": "233ace81f9c74cd29c723d3fdc25b939"
      }
     },
     "metadata": {},
     "output_type": "display_data"
    },
    {
     "data": {
      "text/plain": "Iteration:   0%|          | 0/310 [00:00<?, ?it/s]",
      "application/vnd.jupyter.widget-view+json": {
       "version_major": 2,
       "version_minor": 0,
       "model_id": "0833e599007e4a069c89489546543b19"
      }
     },
     "metadata": {},
     "output_type": "display_data"
    },
    {
     "data": {
      "text/plain": "Iteration:   0%|          | 0/310 [00:00<?, ?it/s]",
      "application/vnd.jupyter.widget-view+json": {
       "version_major": 2,
       "version_minor": 0,
       "model_id": "3acd2d0bba094467ab4fd205b1750e1c"
      }
     },
     "metadata": {},
     "output_type": "display_data"
    },
    {
     "data": {
      "text/plain": "Iteration:   0%|          | 0/310 [00:00<?, ?it/s]",
      "application/vnd.jupyter.widget-view+json": {
       "version_major": 2,
       "version_minor": 0,
       "model_id": "a5c190e34161403593fef1b52da22d06"
      }
     },
     "metadata": {},
     "output_type": "display_data"
    }
   ],
   "source": [
    "train_loss = losses.CosineSimilarityLoss(model=model)\n",
    "\n",
    "model.fit(\n",
    "    train_objectives=[(train_loader, train_loss)],\n",
    "    epochs=10,\n",
    "    warmup_steps=100,\n",
    "    output_path='model/training_nli_distilbert-model'\n",
    ")"
   ],
   "metadata": {
    "collapsed": false,
    "ExecuteTime": {
     "end_time": "2024-04-30T18:37:03.153791100Z",
     "start_time": "2024-04-30T18:27:27.117407Z"
    }
   },
   "id": "89b9a0e84ebe218d"
  },
  {
   "cell_type": "code",
   "execution_count": 21,
   "outputs": [],
   "source": [
    "# loss_func = losses.CosineSimilarityLoss(model=model)\n",
    "# optimizer = torch.optim.Adam(model.parameters(), lr=1e-5)\n",
    "# \n",
    "# all_loss = []\n",
    "# epochs = 15\n",
    "# \n",
    "# for epoch in range(epochs):\n",
    "#     model.train()\n",
    "#     \n",
    "#     for texts, labels in train_loader:\n",
    "#         optimizer.zero_grad()\n",
    "#         \n",
    "#         texts1, texts2 = texts\n",
    "#         embed1 = model.encode(list(texts1), convert_to_tensor=True, show_progress_bar=False).to(device)\n",
    "#         embed2 = model.encode(list(texts2), convert_to_tensor=True, show_progress_bar=False).to(device)\n",
    "# \n",
    "#         labels = torch.tensor(labels, dtype=torch.float).to(device)\n",
    "#  \n",
    "#         features = {'sentence_embedding0': embed1, 'sentence_embedding1': embed2}\n",
    "#         loss = loss_func(features, labels)\n",
    "#         \n",
    "#         loss.backward()\n",
    "#         optimizer.step()\n",
    "#     \n",
    "#     model.eval()\n",
    "#     with torch.no_grad():\n",
    "#         total_loss = 0\n",
    "#         total = 0\n",
    "#         \n",
    "#         for texts, labels in train_loader:\n",
    "#             texts1, texts2 = texts\n",
    "#             embed1 = model.encode(list(texts1), convert_to_tensor=True, show_progress_bar=False).to(device)\n",
    "#             embed2 = model.encode(list(texts2), convert_to_tensor=True, show_progress_bar=False).to(device)\n",
    "# \n",
    "#             labels = torch.tensor(labels, dtype=torch.float).to(device)\n",
    "# \n",
    "#             features = {'sentence_embedding0': embed1, 'sentence_embedding1': embed2}\n",
    "#             val_loss = loss_func(features, labels)\n",
    "#             \n",
    "#             total_loss += val_loss.item() * len(labels)\n",
    "#             total += len(labels)\n",
    "#         \n",
    "#         all_loss.append(total_loss / total)\n",
    "#         print(f'Epoch: {epoch+1:02d}, Loss: {(total_loss / total):.4f}')\n",
    "#     \n",
    "#     if (epoch + 1) % 5 == 0:\n",
    "#         torch.save(model.state_dict(), f'models/model_in_epoch_{epoch+1}.pth')  # save the model every 5 epochs\n",
    "#         # later use \"model.load_state_dict(torch.load('path_to_save_model.pth'))\" to get the model\n",
    "# \n",
    "# print('Finished Training')"
   ],
   "metadata": {
    "collapsed": false,
    "ExecuteTime": {
     "end_time": "2024-04-30T18:37:12.305042700Z",
     "start_time": "2024-04-30T18:37:12.295037Z"
    }
   },
   "id": "717c4b18973bf4d9"
  },
  {
   "cell_type": "markdown",
   "source": [
    "## Now try the trained model:"
   ],
   "metadata": {
    "collapsed": false
   },
   "id": "1056782d93ca26d0"
  },
  {
   "cell_type": "code",
   "execution_count": 22,
   "outputs": [],
   "source": [
    "output_path='model/training_nli_distilbert-model'\n",
    "\n",
    "new_model = SentenceTransformer(output_path).to(device)"
   ],
   "metadata": {
    "collapsed": false,
    "ExecuteTime": {
     "end_time": "2024-04-30T18:38:09.799829800Z",
     "start_time": "2024-04-30T18:38:09.164976800Z"
    }
   },
   "id": "3aebf9f7c15ca494"
  },
  {
   "cell_type": "code",
   "execution_count": 23,
   "outputs": [
    {
     "data": {
      "text/plain": "Batches:   0%|          | 0/157 [00:00<?, ?it/s]",
      "application/vnd.jupyter.widget-view+json": {
       "version_major": 2,
       "version_minor": 0,
       "model_id": "c127b23a7f844109a38c620a57725920"
      }
     },
     "metadata": {},
     "output_type": "display_data"
    }
   ],
   "source": [
    "new_embedding = model.encode(names_genres_keywords, show_progress_bar=True)\n",
    "new_embedding = np.array(new_embedding)"
   ],
   "metadata": {
    "collapsed": false,
    "ExecuteTime": {
     "end_time": "2024-04-30T18:39:31.778535800Z",
     "start_time": "2024-04-30T18:39:24.871465100Z"
    }
   },
   "id": "1faa4661f5fbf41e"
  },
  {
   "cell_type": "code",
   "execution_count": 24,
   "outputs": [
    {
     "name": "stdout",
     "output_type": "stream",
     "text": [
      "The movie 679: The Lawless Heart \t Genres: Drama,Comedy,Romance\n",
      "Top 5 recommendations:\n",
      "1934. Eternally Yours                     Genres: Drama,Comedy,Romance\n",
      "1272. The Facts of Life                   Genres: Drama,Comedy,Romance\n",
      "4446. The One                             Genres: Comedy,Drama,Romance\n",
      "3552. Triumph in the Skies                Genres: Comedy,Drama,Romance\n",
      "3915. A perfect match                     Genres: Comedy,Drama,Romance\n"
     ]
    }
   ],
   "source": [
    "recommend_movies_with_index(movies_5000, new_embedding, 679, 5)"
   ],
   "metadata": {
    "collapsed": false,
    "ExecuteTime": {
     "end_time": "2024-04-30T18:40:02.320660900Z",
     "start_time": "2024-04-30T18:40:02.275011200Z"
    }
   },
   "id": "8a6964334a8a304"
  },
  {
   "cell_type": "code",
   "execution_count": 25,
   "outputs": [
    {
     "name": "stdout",
     "output_type": "stream",
     "text": [
      "Top 5 recommendations:\n",
      "679.  The Lawless Heart                   Genres: Drama,Comedy,Romance\n",
      "4958. Between Us                          Genres: Drama,Comedy,Romance\n",
      "2584. Luv                                 Genres: Romance,Comedy\n",
      "1426. Flakes                              Genres: Comedy,Romance\n",
      "4750. The Matrimaniac                     Genres: Romance,Comedy\n"
     ]
    }
   ],
   "source": [
    "inputs = ['Mr. Wrong', 'Heartbreaker', 'Freelance', 'The Night We Never Met']\n",
    "recommend_movies_with_titles(inputs, movies_5000, embedding, 5)"
   ],
   "metadata": {
    "collapsed": false,
    "ExecuteTime": {
     "end_time": "2024-04-30T18:40:44.604974500Z",
     "start_time": "2024-04-30T18:40:44.556900400Z"
    }
   },
   "id": "a97f7a66d29f32e9"
  },
  {
   "cell_type": "code",
   "execution_count": 26,
   "outputs": [
    {
     "name": "stdout",
     "output_type": "stream",
     "text": [
      "Top 5 recommendations:\n",
      "1933. Deadfall                            Genres: Crime,Drama,Thriller\n",
      "790.  The Chase                           Genres: Thriller,Drama,Crime\n",
      "413.  Nekromantik                         Genres: Drama,Horror\n",
      "4265. Captain Fantastic                   Genres: Adventure,Comedy,Drama,Romance\n",
      "1063. Boogeyman                           Genres: Thriller,Horror,Drama,Mystery\n"
     ]
    }
   ],
   "source": [
    "UserId = '7'\n",
    "recommend_movies_with_history(UserId, ratings_for_history_small, movies_5000, embedding, 5)"
   ],
   "metadata": {
    "collapsed": false,
    "ExecuteTime": {
     "end_time": "2024-04-30T18:41:11.856059500Z",
     "start_time": "2024-04-30T18:41:11.816534800Z"
    }
   },
   "id": "fb0c7dc14f610ba"
  },
  {
   "cell_type": "code",
   "execution_count": null,
   "outputs": [],
   "source": [],
   "metadata": {
    "collapsed": false
   },
   "id": "fd5a969b9efb5d3b"
  }
 ],
 "metadata": {
  "kernelspec": {
   "name": "ee541",
   "language": "python",
   "display_name": "EE541"
  },
  "language_info": {
   "codemirror_mode": {
    "name": "ipython",
    "version": 2
   },
   "file_extension": ".py",
   "mimetype": "text/x-python",
   "name": "python",
   "nbconvert_exporter": "python",
   "pygments_lexer": "ipython2",
   "version": "2.7.6"
  }
 },
 "nbformat": 4,
 "nbformat_minor": 5
}
