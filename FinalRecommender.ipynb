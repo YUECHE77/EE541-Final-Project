{
 "cells": [
  {
   "cell_type": "code",
   "execution_count": 1,
   "id": "initial_id",
   "metadata": {
    "collapsed": true,
    "ExecuteTime": {
     "end_time": "2024-05-07T19:08:10.299883300Z",
     "start_time": "2024-05-07T19:08:02.244255500Z"
    }
   },
   "outputs": [],
   "source": [
    "import logging\n",
    "import pandas as pd\n",
    "import numpy as np\n",
    "from sklearn.metrics.pairwise import cosine_similarity\n",
    "\n",
    "import torch\n",
    "from torch.utils.data import Dataset, DataLoader\n",
    "from transformers import AdamW\n",
    "from sentence_transformers import SentenceTransformer, InputExample, losses, evaluation, LoggingHandler"
   ]
  },
  {
   "cell_type": "markdown",
   "source": [
    "#### 1. Input a movie index, return recommendations:"
   ],
   "metadata": {
    "collapsed": false
   },
   "id": "c813cd5169b28d24"
  },
  {
   "cell_type": "code",
   "execution_count": 6,
   "outputs": [],
   "source": [
    "def recommend_movies_with_index(movies_, embeddings, movie_index, k=5):\n",
    "    if movie_index >= movies_.shape[0]:\n",
    "        print(f'Invalid movie index {movie_index}!')\n",
    "        return\n",
    "    \n",
    "    k = 5 if k <= 0 else k\n",
    "    \n",
    "    movie_emb = embeddings[movie_index]  # find the corresponding embedding vector first \n",
    "    cos_simi = cosine_similarity([movie_emb], embeddings)[0]  # compute the similarity to all movies\n",
    "    \n",
    "    top_indices = np.argsort(-cos_simi)[1:k+1]  # because the largest cosine similarity must be with itself\n",
    "    rec_movies = movies_.iloc[top_indices]  # get the recommendation movies -> DataFrame\n",
    "\n",
    "    print(f'The movie {movie_index}: {movies_.title.iloc[movie_index]} \\t Genres: {movies_.AllGenres.iloc[movie_index]}\\n')\n",
    "    print(f'Top {k} recommendations:')\n",
    "    \n",
    "    for index, movie in rec_movies.iterrows():\n",
    "        print('{:<6} {:<35} {}'.format(f'{index}.', f'{movie[\"title\"]}', f'Genres: {movie[\"AllGenres\"]}'))"
   ],
   "metadata": {
    "collapsed": false,
    "ExecuteTime": {
     "end_time": "2024-05-07T23:54:32.489728300Z",
     "start_time": "2024-05-07T23:54:32.485716600Z"
    }
   },
   "id": "a544d8ee17cf8838"
  },
  {
   "cell_type": "markdown",
   "source": [
    "#### 2. Input a list of movie(s), return recommendations: "
   ],
   "metadata": {
    "collapsed": false
   },
   "id": "aad64e4ca566cc42"
  },
  {
   "cell_type": "code",
   "execution_count": 7,
   "outputs": [],
   "source": [
    "def recommend_movies_with_titles(titles, movies_, embeddings, model_, k=5):\n",
    "    if not titles:\n",
    "        print('Enter at least ONE movie title!')\n",
    "        return \n",
    "    \n",
    "    k = 5 if k <= 0 else k\n",
    "    \n",
    "    movies_input = movies_[movies_['title'].isin(titles)]  # All input movies\n",
    "    \n",
    "    # If ANY movie title that the user enters is NOT in our dataset\n",
    "    # The only useful information we have is those titles -> encode those titles\n",
    "    if movies_input.empty:\n",
    "        print('Those movies are not in our dataset currently, but we can recommend you the following: \\n')\n",
    "        \n",
    "        movies_remaining = movies_  # Every movie in the dataset is the \"remaining movie\"\n",
    "        \n",
    "        user_inputs = ','.join(titles)\n",
    "        movies_input_emb = model_.encode(user_inputs)\n",
    "        combined_emb = np.array(movies_input_emb)\n",
    "        \n",
    "    # If the user enters valid titles, then just get the embeddings for the movies\n",
    "    else:\n",
    "        movies_remaining = movies_[~movies_['title'].isin(titles)]  # All remaining movies\n",
    "    \n",
    "        movies_input_emb = embeddings[movies_input.index]  # embeddings is np.array\n",
    "        combined_emb = np.mean(movies_input_emb, axis=0)\n",
    "    \n",
    "    movies_remaining_emb = embeddings[movies_remaining.index]\n",
    "    \n",
    "    cos_simi = cosine_similarity([combined_emb], movies_remaining_emb)[0]\n",
    "    \n",
    "    top_indices = np.argsort(-cos_simi)[:k]\n",
    "    recommend_movies = movies_remaining.iloc[top_indices]\n",
    "    \n",
    "    print(f'Top {k} recommendations:')\n",
    "    for index, movie in recommend_movies.iterrows():\n",
    "        print('{:<6} {:<35} {}'.format(f'{index}.', f'{movie[\"title\"]}', f'Genres: {movie[\"AllGenres\"]}'))"
   ],
   "metadata": {
    "collapsed": false,
    "ExecuteTime": {
     "end_time": "2024-05-07T23:54:33.925673700Z",
     "start_time": "2024-05-07T23:54:33.904173600Z"
    }
   },
   "id": "3a896a4862a4069e"
  },
  {
   "cell_type": "markdown",
   "source": [
    "#### 3. Input User ID, return recommendations:"
   ],
   "metadata": {
    "collapsed": false
   },
   "id": "c6d473668fdccdc4"
  },
  {
   "cell_type": "code",
   "execution_count": 8,
   "outputs": [],
   "source": [
    "def recommend_movies_with_history(user_id, ratings_, movies_, embeddings, k=5, m=3):\n",
    "    user_list = ratings_['userId'].unique().tolist()\n",
    "    if user_id not in user_list:\n",
    "        print(f'Cannot find the user with id: {user_id}')\n",
    "        return \n",
    "    \n",
    "    user_history = ratings_[ratings_['userId'] == user_id]  # get the user's history (all)\n",
    "    \n",
    "    m = 3 if m <= 0 else m \n",
    "    m = min(m, len(user_history))\n",
    "    \n",
    "    # Sort movies with the highest user ratings and recently watched\n",
    "    sorted_history = user_history.sort_values(by=['rating', 'timestamp'])\n",
    "    sorted_m_history = sorted_history.iloc[:m]  # select the first m movies\n",
    "    \n",
    "    user_history_id = sorted_m_history['movieId'].tolist()\n",
    "    \n",
    "    history_titles = movies_[movies_['id'].isin(user_history_id)]\n",
    "    history_titles = history_titles['title'].tolist()\n",
    "    \n",
    "    recommend_movies_with_titles(history_titles, movies_, embeddings, k)"
   ],
   "metadata": {
    "collapsed": false,
    "ExecuteTime": {
     "end_time": "2024-05-07T23:54:35.066857800Z",
     "start_time": "2024-05-07T23:54:35.058838400Z"
    }
   },
   "id": "57aa8b82f224c12a"
  },
  {
   "cell_type": "markdown",
   "source": [
    "### Additional: \n",
    "#### 4. From genres to movies"
   ],
   "metadata": {
    "collapsed": false
   },
   "id": "73c93795b84b150a"
  },
  {
   "cell_type": "code",
   "execution_count": 9,
   "outputs": [],
   "source": [
    "def genres_to_movies(genres_, model_, movies_, embeddings, k=5):\n",
    "    if not genres_:\n",
    "        print('Enter at least ONE genre!')\n",
    "        return\n",
    "    \n",
    "    k = 5 if k <= 0 else k\n",
    "    \n",
    "    all_genres = ','.join(genres_)\n",
    "    all_genres_emb = model_.encode(all_genres)\n",
    "    all_genres_emb = np.array(all_genres_emb)\n",
    "    \n",
    "    cos_simi = cosine_similarity([all_genres_emb], embeddings)[0]\n",
    "    \n",
    "    top_indices = np.argsort(-cos_simi)[:k]\n",
    "    recommend_movies = movies_.iloc[top_indices]\n",
    "    \n",
    "    print(f'Top {k} recommendations:')\n",
    "    for index, movie in recommend_movies.iterrows():\n",
    "        print('{:<6} {:<35} {}'.format(f'{index}.', f'{movie[\"title\"]}', f'Genres: {movie[\"AllGenres\"]}'))\n",
    "        \n",
    "    return recommend_movies['title'].tolist()"
   ],
   "metadata": {
    "collapsed": false,
    "ExecuteTime": {
     "end_time": "2024-05-07T23:54:36.020439600Z",
     "start_time": "2024-05-07T23:54:36.001122Z"
    }
   },
   "id": "1cd0e7e27216aaa8"
  },
  {
   "cell_type": "markdown",
   "source": [
    "#### Load the datasets:"
   ],
   "metadata": {
    "collapsed": false
   },
   "id": "ea27caf9480fb5c7"
  },
  {
   "cell_type": "code",
   "execution_count": 10,
   "outputs": [
    {
     "data": {
      "text/plain": "      id                        title                 AllGenres  \\\n0    862                    Toy Story   Animation,Comedy,Family   \n1   8844                      Jumanji  Adventure,Fantasy,Family   \n2  15602             Grumpier Old Men            Romance,Comedy   \n3  31357            Waiting to Exhale      Comedy,Drama,Romance   \n4  11862  Father of the Bride Part II                    Comedy   \n\n                                         AllKeywords  \n0        rivalry,toy comes to life,boy next door,toy  \n1                                                     \n2   fishing,best friend,duringcreditsstinger,old men  \n3  divorce,chick flick,interracial relationship,s...  \n4   mother daughter relationship,baby,aging,daughter  ",
      "text/html": "<div>\n<style scoped>\n    .dataframe tbody tr th:only-of-type {\n        vertical-align: middle;\n    }\n\n    .dataframe tbody tr th {\n        vertical-align: top;\n    }\n\n    .dataframe thead th {\n        text-align: right;\n    }\n</style>\n<table border=\"1\" class=\"dataframe\">\n  <thead>\n    <tr style=\"text-align: right;\">\n      <th></th>\n      <th>id</th>\n      <th>title</th>\n      <th>AllGenres</th>\n      <th>AllKeywords</th>\n    </tr>\n  </thead>\n  <tbody>\n    <tr>\n      <th>0</th>\n      <td>862</td>\n      <td>Toy Story</td>\n      <td>Animation,Comedy,Family</td>\n      <td>rivalry,toy comes to life,boy next door,toy</td>\n    </tr>\n    <tr>\n      <th>1</th>\n      <td>8844</td>\n      <td>Jumanji</td>\n      <td>Adventure,Fantasy,Family</td>\n      <td></td>\n    </tr>\n    <tr>\n      <th>2</th>\n      <td>15602</td>\n      <td>Grumpier Old Men</td>\n      <td>Romance,Comedy</td>\n      <td>fishing,best friend,duringcreditsstinger,old men</td>\n    </tr>\n    <tr>\n      <th>3</th>\n      <td>31357</td>\n      <td>Waiting to Exhale</td>\n      <td>Comedy,Drama,Romance</td>\n      <td>divorce,chick flick,interracial relationship,s...</td>\n    </tr>\n    <tr>\n      <th>4</th>\n      <td>11862</td>\n      <td>Father of the Bride Part II</td>\n      <td>Comedy</td>\n      <td>mother daughter relationship,baby,aging,daughter</td>\n    </tr>\n  </tbody>\n</table>\n</div>"
     },
     "execution_count": 10,
     "metadata": {},
     "output_type": "execute_result"
    }
   ],
   "source": [
    "movies_all_path = 'dataset/movies_with_keywords.csv'\n",
    "movies_small_path = 'dataset/movies_5000.csv'\n",
    "ratings_for_history_path = 'dataset/ratings_for_history.csv'\n",
    "ratings_for_history_small_path = 'dataset/ratings_for_history_small.csv'\n",
    "\n",
    "movies = pd.read_csv(movies_all_path, keep_default_na=False, dtype=str)\n",
    "movies_5000 = pd.read_csv(movies_small_path, keep_default_na=False, dtype=str)\n",
    "ratings_for_history = pd.read_csv(ratings_for_history_path, dtype=str)\n",
    "ratings_for_history_small = pd.read_csv(ratings_for_history_small_path, dtype=str)\n",
    "\n",
    "movies.head()"
   ],
   "metadata": {
    "collapsed": false,
    "ExecuteTime": {
     "end_time": "2024-05-07T23:54:37.809629300Z",
     "start_time": "2024-05-07T23:54:37.607371900Z"
    }
   },
   "id": "65d606f1c8a1438a"
  },
  {
   "cell_type": "code",
   "execution_count": 11,
   "outputs": [
    {
     "name": "stdout",
     "output_type": "stream",
     "text": [
      "<class 'pandas.core.frame.DataFrame'>\n",
      "RangeIndex: 4250 entries, 0 to 4249\n",
      "Data columns (total 4 columns):\n",
      " #   Column     Non-Null Count  Dtype \n",
      "---  ------     --------------  ----- \n",
      " 0   userId     4250 non-null   object\n",
      " 1   movieId    4250 non-null   object\n",
      " 2   rating     4250 non-null   object\n",
      " 3   timestamp  4250 non-null   object\n",
      "dtypes: object(4)\n",
      "memory usage: 132.9+ KB\n"
     ]
    }
   ],
   "source": [
    "ratings_for_history_small.info()"
   ],
   "metadata": {
    "collapsed": false,
    "ExecuteTime": {
     "end_time": "2024-05-07T23:54:38.697591700Z",
     "start_time": "2024-05-07T23:54:38.681744600Z"
    }
   },
   "id": "1a1941194b117cff"
  },
  {
   "cell_type": "code",
   "execution_count": 12,
   "outputs": [
    {
     "name": "stdout",
     "output_type": "stream",
     "text": [
      "<class 'pandas.core.frame.DataFrame'>\n",
      "RangeIndex: 4250 entries, 0 to 4249\n",
      "Data columns (total 4 columns):\n",
      " #   Column     Non-Null Count  Dtype  \n",
      "---  ------     --------------  -----  \n",
      " 0   userId     4250 non-null   object \n",
      " 1   movieId    4250 non-null   object \n",
      " 2   rating     4250 non-null   float64\n",
      " 3   timestamp  4250 non-null   int32  \n",
      "dtypes: float64(1), int32(1), object(2)\n",
      "memory usage: 116.3+ KB\n"
     ]
    }
   ],
   "source": [
    "ratings_for_history['rating'] = ratings_for_history['rating'].astype(float)\n",
    "ratings_for_history['timestamp'] = ratings_for_history['timestamp'].astype(int)\n",
    "ratings_for_history_small['rating'] = ratings_for_history_small['rating'].astype(float)\n",
    "ratings_for_history_small['timestamp'] = ratings_for_history_small['timestamp'].astype(int)\n",
    "\n",
    "ratings_for_history_small.info()"
   ],
   "metadata": {
    "collapsed": false,
    "ExecuteTime": {
     "end_time": "2024-05-07T23:54:41.663588400Z",
     "start_time": "2024-05-07T23:54:41.603517300Z"
    }
   },
   "id": "2b6067d5c184ac0a"
  },
  {
   "cell_type": "markdown",
   "source": [
    "#### Load the model, and encode the words (descriptions -> titles + genres + keywords):"
   ],
   "metadata": {
    "collapsed": false
   },
   "id": "875d2791c5bcf31"
  },
  {
   "cell_type": "code",
   "execution_count": 13,
   "outputs": [
    {
     "name": "stdout",
     "output_type": "stream",
     "text": [
      "cuda:0\n"
     ]
    }
   ],
   "source": [
    "device = torch.device('cuda:0' if torch.cuda.is_available() else 'cpu')\n",
    "model = SentenceTransformer('distilbert-base-nli-mean-tokens').to(device)\n",
    "print(device)"
   ],
   "metadata": {
    "collapsed": false,
    "ExecuteTime": {
     "end_time": "2024-05-07T23:54:45.992707300Z",
     "start_time": "2024-05-07T23:54:44.167951300Z"
    }
   },
   "id": "5c59e6dcb6b05d97"
  },
  {
   "cell_type": "code",
   "execution_count": 14,
   "outputs": [
    {
     "name": "stdout",
     "output_type": "stream",
     "text": [
      "Model summary:\n",
      "\n",
      "0.auto_model.embeddings.word_embeddings.weight: 23440896 total parameters\n",
      "0.auto_model.embeddings.position_embeddings.weight: 393216 total parameters\n",
      "0.auto_model.embeddings.LayerNorm.weight: 768 total parameters\n",
      "0.auto_model.embeddings.LayerNorm.bias: 768 total parameters\n",
      "0.auto_model.transformer.layer.0.attention.q_lin.weight: 589824 total parameters\n",
      "0.auto_model.transformer.layer.0.attention.q_lin.bias: 768 total parameters\n",
      "0.auto_model.transformer.layer.0.attention.k_lin.weight: 589824 total parameters\n",
      "0.auto_model.transformer.layer.0.attention.k_lin.bias: 768 total parameters\n",
      "0.auto_model.transformer.layer.0.attention.v_lin.weight: 589824 total parameters\n",
      "0.auto_model.transformer.layer.0.attention.v_lin.bias: 768 total parameters\n",
      "0.auto_model.transformer.layer.0.attention.out_lin.weight: 589824 total parameters\n",
      "0.auto_model.transformer.layer.0.attention.out_lin.bias: 768 total parameters\n",
      "0.auto_model.transformer.layer.0.sa_layer_norm.weight: 768 total parameters\n",
      "0.auto_model.transformer.layer.0.sa_layer_norm.bias: 768 total parameters\n",
      "0.auto_model.transformer.layer.0.ffn.lin1.weight: 2359296 total parameters\n",
      "0.auto_model.transformer.layer.0.ffn.lin1.bias: 3072 total parameters\n",
      "0.auto_model.transformer.layer.0.ffn.lin2.weight: 2359296 total parameters\n",
      "0.auto_model.transformer.layer.0.ffn.lin2.bias: 768 total parameters\n",
      "0.auto_model.transformer.layer.0.output_layer_norm.weight: 768 total parameters\n",
      "0.auto_model.transformer.layer.0.output_layer_norm.bias: 768 total parameters\n",
      "0.auto_model.transformer.layer.1.attention.q_lin.weight: 589824 total parameters\n",
      "0.auto_model.transformer.layer.1.attention.q_lin.bias: 768 total parameters\n",
      "0.auto_model.transformer.layer.1.attention.k_lin.weight: 589824 total parameters\n",
      "0.auto_model.transformer.layer.1.attention.k_lin.bias: 768 total parameters\n",
      "0.auto_model.transformer.layer.1.attention.v_lin.weight: 589824 total parameters\n",
      "0.auto_model.transformer.layer.1.attention.v_lin.bias: 768 total parameters\n",
      "0.auto_model.transformer.layer.1.attention.out_lin.weight: 589824 total parameters\n",
      "0.auto_model.transformer.layer.1.attention.out_lin.bias: 768 total parameters\n",
      "0.auto_model.transformer.layer.1.sa_layer_norm.weight: 768 total parameters\n",
      "0.auto_model.transformer.layer.1.sa_layer_norm.bias: 768 total parameters\n",
      "0.auto_model.transformer.layer.1.ffn.lin1.weight: 2359296 total parameters\n",
      "0.auto_model.transformer.layer.1.ffn.lin1.bias: 3072 total parameters\n",
      "0.auto_model.transformer.layer.1.ffn.lin2.weight: 2359296 total parameters\n",
      "0.auto_model.transformer.layer.1.ffn.lin2.bias: 768 total parameters\n",
      "0.auto_model.transformer.layer.1.output_layer_norm.weight: 768 total parameters\n",
      "0.auto_model.transformer.layer.1.output_layer_norm.bias: 768 total parameters\n",
      "0.auto_model.transformer.layer.2.attention.q_lin.weight: 589824 total parameters\n",
      "0.auto_model.transformer.layer.2.attention.q_lin.bias: 768 total parameters\n",
      "0.auto_model.transformer.layer.2.attention.k_lin.weight: 589824 total parameters\n",
      "0.auto_model.transformer.layer.2.attention.k_lin.bias: 768 total parameters\n",
      "0.auto_model.transformer.layer.2.attention.v_lin.weight: 589824 total parameters\n",
      "0.auto_model.transformer.layer.2.attention.v_lin.bias: 768 total parameters\n",
      "0.auto_model.transformer.layer.2.attention.out_lin.weight: 589824 total parameters\n",
      "0.auto_model.transformer.layer.2.attention.out_lin.bias: 768 total parameters\n",
      "0.auto_model.transformer.layer.2.sa_layer_norm.weight: 768 total parameters\n",
      "0.auto_model.transformer.layer.2.sa_layer_norm.bias: 768 total parameters\n",
      "0.auto_model.transformer.layer.2.ffn.lin1.weight: 2359296 total parameters\n",
      "0.auto_model.transformer.layer.2.ffn.lin1.bias: 3072 total parameters\n",
      "0.auto_model.transformer.layer.2.ffn.lin2.weight: 2359296 total parameters\n",
      "0.auto_model.transformer.layer.2.ffn.lin2.bias: 768 total parameters\n",
      "0.auto_model.transformer.layer.2.output_layer_norm.weight: 768 total parameters\n",
      "0.auto_model.transformer.layer.2.output_layer_norm.bias: 768 total parameters\n",
      "0.auto_model.transformer.layer.3.attention.q_lin.weight: 589824 total parameters\n",
      "0.auto_model.transformer.layer.3.attention.q_lin.bias: 768 total parameters\n",
      "0.auto_model.transformer.layer.3.attention.k_lin.weight: 589824 total parameters\n",
      "0.auto_model.transformer.layer.3.attention.k_lin.bias: 768 total parameters\n",
      "0.auto_model.transformer.layer.3.attention.v_lin.weight: 589824 total parameters\n",
      "0.auto_model.transformer.layer.3.attention.v_lin.bias: 768 total parameters\n",
      "0.auto_model.transformer.layer.3.attention.out_lin.weight: 589824 total parameters\n",
      "0.auto_model.transformer.layer.3.attention.out_lin.bias: 768 total parameters\n",
      "0.auto_model.transformer.layer.3.sa_layer_norm.weight: 768 total parameters\n",
      "0.auto_model.transformer.layer.3.sa_layer_norm.bias: 768 total parameters\n",
      "0.auto_model.transformer.layer.3.ffn.lin1.weight: 2359296 total parameters\n",
      "0.auto_model.transformer.layer.3.ffn.lin1.bias: 3072 total parameters\n",
      "0.auto_model.transformer.layer.3.ffn.lin2.weight: 2359296 total parameters\n",
      "0.auto_model.transformer.layer.3.ffn.lin2.bias: 768 total parameters\n",
      "0.auto_model.transformer.layer.3.output_layer_norm.weight: 768 total parameters\n",
      "0.auto_model.transformer.layer.3.output_layer_norm.bias: 768 total parameters\n",
      "0.auto_model.transformer.layer.4.attention.q_lin.weight: 589824 total parameters\n",
      "0.auto_model.transformer.layer.4.attention.q_lin.bias: 768 total parameters\n",
      "0.auto_model.transformer.layer.4.attention.k_lin.weight: 589824 total parameters\n",
      "0.auto_model.transformer.layer.4.attention.k_lin.bias: 768 total parameters\n",
      "0.auto_model.transformer.layer.4.attention.v_lin.weight: 589824 total parameters\n",
      "0.auto_model.transformer.layer.4.attention.v_lin.bias: 768 total parameters\n",
      "0.auto_model.transformer.layer.4.attention.out_lin.weight: 589824 total parameters\n",
      "0.auto_model.transformer.layer.4.attention.out_lin.bias: 768 total parameters\n",
      "0.auto_model.transformer.layer.4.sa_layer_norm.weight: 768 total parameters\n",
      "0.auto_model.transformer.layer.4.sa_layer_norm.bias: 768 total parameters\n",
      "0.auto_model.transformer.layer.4.ffn.lin1.weight: 2359296 total parameters\n",
      "0.auto_model.transformer.layer.4.ffn.lin1.bias: 3072 total parameters\n",
      "0.auto_model.transformer.layer.4.ffn.lin2.weight: 2359296 total parameters\n",
      "0.auto_model.transformer.layer.4.ffn.lin2.bias: 768 total parameters\n",
      "0.auto_model.transformer.layer.4.output_layer_norm.weight: 768 total parameters\n",
      "0.auto_model.transformer.layer.4.output_layer_norm.bias: 768 total parameters\n",
      "0.auto_model.transformer.layer.5.attention.q_lin.weight: 589824 total parameters\n",
      "0.auto_model.transformer.layer.5.attention.q_lin.bias: 768 total parameters\n",
      "0.auto_model.transformer.layer.5.attention.k_lin.weight: 589824 total parameters\n",
      "0.auto_model.transformer.layer.5.attention.k_lin.bias: 768 total parameters\n",
      "0.auto_model.transformer.layer.5.attention.v_lin.weight: 589824 total parameters\n",
      "0.auto_model.transformer.layer.5.attention.v_lin.bias: 768 total parameters\n",
      "0.auto_model.transformer.layer.5.attention.out_lin.weight: 589824 total parameters\n",
      "0.auto_model.transformer.layer.5.attention.out_lin.bias: 768 total parameters\n",
      "0.auto_model.transformer.layer.5.sa_layer_norm.weight: 768 total parameters\n",
      "0.auto_model.transformer.layer.5.sa_layer_norm.bias: 768 total parameters\n",
      "0.auto_model.transformer.layer.5.ffn.lin1.weight: 2359296 total parameters\n",
      "0.auto_model.transformer.layer.5.ffn.lin1.bias: 3072 total parameters\n",
      "0.auto_model.transformer.layer.5.ffn.lin2.weight: 2359296 total parameters\n",
      "0.auto_model.transformer.layer.5.ffn.lin2.bias: 768 total parameters\n",
      "0.auto_model.transformer.layer.5.output_layer_norm.weight: 768 total parameters\n",
      "0.auto_model.transformer.layer.5.output_layer_norm.bias: 768 total parameters\n",
      "\n",
      "Total trainable parameters: 66362880\n"
     ]
    }
   ],
   "source": [
    "def print_model_summary(model):\n",
    "    print(\"Model summary:\\n\")\n",
    "    total_params = 0\n",
    "    for name, parameter in model.named_parameters():\n",
    "        if not parameter.requires_grad:\n",
    "            continue\n",
    "        param = parameter.numel()\n",
    "        total_params += param\n",
    "        print(f\"{name}: {param} total parameters\")\n",
    "    print(f\"\\nTotal trainable parameters: {total_params}\")\n",
    "\n",
    "print_model_summary(model)"
   ],
   "metadata": {
    "collapsed": false,
    "ExecuteTime": {
     "end_time": "2024-05-07T23:54:46.942756800Z",
     "start_time": "2024-05-07T23:54:46.927358200Z"
    }
   },
   "id": "6ca208d45cdafd12"
  },
  {
   "cell_type": "code",
   "execution_count": 15,
   "outputs": [
    {
     "data": {
      "text/plain": "['Grumpier Old Men,Romance,Comedy,fishing,best friend,duringcreditsstinger,old men',\n 'Waiting to Exhale,Comedy,Drama,Romance,divorce,chick flick,interracial relationship,single mother',\n 'GoldenEye,Adventure,Action,Thriller,red army,electromagnetic pulse,special car,computer virus',\n 'Money Train,Action,Comedy,Crime,subway,brother brother relationship,new york subway,train robbery',\n 'Twelve Monkeys,Science Fiction,Thriller,Mystery,monkey,dystopia,stockholm syndrome,subterranean']"
     },
     "execution_count": 15,
     "metadata": {},
     "output_type": "execute_result"
    }
   ],
   "source": [
    "names_genres_keywords = movies_5000['title'] + ',' + movies_5000['AllGenres'] + ',' + movies_5000['AllKeywords']\n",
    "names_genres_keywords = names_genres_keywords.tolist()\n",
    "names_genres_keywords[:5]"
   ],
   "metadata": {
    "collapsed": false,
    "ExecuteTime": {
     "end_time": "2024-05-07T23:54:48.026849700Z",
     "start_time": "2024-05-07T23:54:47.996187500Z"
    }
   },
   "id": "47fa89e391020cca"
  },
  {
   "cell_type": "code",
   "execution_count": 16,
   "outputs": [
    {
     "data": {
      "text/plain": "Batches:   0%|          | 0/157 [00:00<?, ?it/s]",
      "application/vnd.jupyter.widget-view+json": {
       "version_major": 2,
       "version_minor": 0,
       "model_id": "a60b4a1541114362be811853c507a51b"
      }
     },
     "metadata": {},
     "output_type": "display_data"
    }
   ],
   "source": [
    "embedding = model.encode(names_genres_keywords, show_progress_bar=True)\n",
    "embedding = np.array(embedding)"
   ],
   "metadata": {
    "collapsed": false,
    "ExecuteTime": {
     "end_time": "2024-05-07T23:55:16.904306700Z",
     "start_time": "2024-05-07T23:55:07.593002500Z"
    }
   },
   "id": "df3c2c860622d97c"
  },
  {
   "cell_type": "markdown",
   "source": [
    "#### Test my functions:"
   ],
   "metadata": {
    "collapsed": false
   },
   "id": "79303c6fdc9eb2ea"
  },
  {
   "cell_type": "code",
   "execution_count": 17,
   "outputs": [
    {
     "name": "stdout",
     "output_type": "stream",
     "text": [
      "The movie 888: The Manchurian Candidate \t Genres: Drama,Thriller,Mystery\n",
      "\n",
      "Top 5 recommendations:\n",
      "2405.  Calling Dr. Death                   Genres: Thriller,Mystery\n",
      "4413.  Psycho-Pass: The Movie              Genres: Science Fiction,Animation,Action\n",
      "261.   Rambo III                           Genres: Action,Adventure,Thriller,War\n",
      "875.   Morituri                            Genres: Action,Drama,Thriller,War\n",
      "1451.  Farscape: The Peacekeeper Wars      Genres: Action,Comedy,Romance,Science Fiction,Thriller\n"
     ]
    }
   ],
   "source": [
    "recommend_movies_with_index(movies_5000, embedding, 888, 5)"
   ],
   "metadata": {
    "collapsed": false,
    "ExecuteTime": {
     "end_time": "2024-05-07T23:55:18.679861200Z",
     "start_time": "2024-05-07T23:55:18.642777700Z"
    }
   },
   "id": "d839c81436519282"
  },
  {
   "cell_type": "code",
   "execution_count": 18,
   "outputs": [
    {
     "name": "stdout",
     "output_type": "stream",
     "text": [
      "Top 5 recommendations:\n",
      "4858.  Riding with Death                   Genres: Science Fiction,TV Movie,Action,Thriller\n",
      "1860.  The Kings of Mykonos                Genres: Action,Comedy,Thriller,Science Fiction\n",
      "888.   The Manchurian Candidate            Genres: Drama,Thriller,Mystery\n",
      "4675.  The Tribe                           Genres: Thriller,Drama,Science Fiction\n",
      "3485.  Spectral                            Genres: Thriller,Action,Science Fiction\n"
     ]
    }
   ],
   "source": [
    "inputs = ['Calling Dr. Death', 'Rambo III', 'Morituri', 'Farscape: The Peacekeeper Wars']\n",
    "recommend_movies_with_titles(inputs, movies_5000, embedding, model_=model, k=5)"
   ],
   "metadata": {
    "collapsed": false,
    "ExecuteTime": {
     "end_time": "2024-05-07T23:55:19.732525700Z",
     "start_time": "2024-05-07T23:55:19.702227600Z"
    }
   },
   "id": "30671906ba1e0759"
  },
  {
   "cell_type": "code",
   "execution_count": 19,
   "outputs": [
    {
     "name": "stdout",
     "output_type": "stream",
     "text": [
      "Those movies are not in our dataset currently, but we can recommend you the following: \n",
      "\n",
      "Top 5 recommendations:\n",
      "4663.  Has the Film Already Started?       Genres: \n",
      "1726.  The Man Who Left His Will on Film   Genres: Drama\n",
      "1900.  The Target Shoots First             Genres: Documentary\n",
      "3059.  The Lumière Brothers' First Films   Genres: Documentary\n",
      "2793.  Mail Early for Xmas                 Genres: Animation\n"
     ]
    }
   ],
   "source": [
    "inputs_2 = ['A movie I just made up', 'Only for the test']\n",
    "recommend_movies_with_titles(inputs_2, movies_5000, embedding, model_=model, k=5)"
   ],
   "metadata": {
    "collapsed": false,
    "ExecuteTime": {
     "end_time": "2024-05-07T23:55:20.832990800Z",
     "start_time": "2024-05-07T23:55:20.770462100Z"
    }
   },
   "id": "477b7f2f7f0a65d8"
  },
  {
   "cell_type": "code",
   "execution_count": 20,
   "outputs": [
    {
     "name": "stdout",
     "output_type": "stream",
     "text": [
      "Top 5 recommendations:\n",
      "1123.  Ferpect Crime                       Genres: Thriller,Comedy,Crime\n",
      "3724.  Buttwhistle                         Genres: Mystery,Romance,Comedy,Crime,Drama\n",
      "657.   Above Suspicion                     Genres: Drama,Thriller\n",
      "4265.  Captain Fantastic                   Genres: Adventure,Comedy,Drama,Romance\n",
      "928.   Tales of Manhattan                  Genres: Comedy,Drama,Romance\n"
     ]
    }
   ],
   "source": [
    "UserId = '17'\n",
    "recommend_movies_with_history(UserId, ratings_for_history_small, movies_5000, embedding, k=5, m=10)"
   ],
   "metadata": {
    "collapsed": false,
    "ExecuteTime": {
     "end_time": "2024-05-07T23:55:21.699030300Z",
     "start_time": "2024-05-07T23:55:21.650878600Z"
    }
   },
   "id": "79b7de667f692a8a"
  },
  {
   "cell_type": "code",
   "execution_count": 21,
   "outputs": [
    {
     "name": "stdout",
     "output_type": "stream",
     "text": [
      "Top 5 recommendations:\n",
      "115.   Charade                             Genres: Comedy,Mystery,Romance,Thriller\n",
      "85.    Captives                            Genres: Drama,Thriller,Mystery,Romance\n",
      "4203.  Rajathandhiram                      Genres: Romance,Crime,Drama,Thriller,Comedy\n",
      "1949.  Carancho                            Genres: Thriller,Drama,Romance\n",
      "3337.  Amiche da morire                    Genres: Romance,Crime,Comedy\n"
     ]
    },
    {
     "data": {
      "text/plain": "['Charade', 'Captives', 'Rajathandhiram', 'Carancho', 'Amiche da morire']"
     },
     "execution_count": 21,
     "metadata": {},
     "output_type": "execute_result"
    }
   ],
   "source": [
    "genres = ['Thriller', 'Crime', 'Comedy', 'Romance']\n",
    "rec_movies = genres_to_movies(genres, model_=model, movies_=movies_5000, embeddings=embedding, k=5)\n",
    "rec_movies"
   ],
   "metadata": {
    "collapsed": false,
    "ExecuteTime": {
     "end_time": "2024-05-07T23:55:23.508602100Z",
     "start_time": "2024-05-07T23:55:23.439691800Z"
    }
   },
   "id": "f189a67707af917"
  },
  {
   "cell_type": "markdown",
   "source": [
    "## Above is just testing my functions.\n",
    "## Now we can finally fine tune the model!!!"
   ],
   "metadata": {
    "collapsed": false
   },
   "id": "4b14f4f98ace264c"
  },
  {
   "cell_type": "markdown",
   "source": [
    "#### The function compute the similarity of two movies:\n",
    "Only consider genres, because there are way too many different keywords. But of course, if two movies have same keywords, which implies a much stronger correlation than merely having similar genres.\n",
    "\n",
    "This can be used for improvement in the future."
   ],
   "metadata": {
    "collapsed": false
   },
   "id": "c8005dec1cce8607"
  },
  {
   "cell_type": "code",
   "execution_count": 22,
   "outputs": [],
   "source": [
    "def if_similar(movie1, movie2):\n",
    "    genres1 = set(movie1['AllGenres'].strip().split(','))\n",
    "    genres2 = set(movie2['AllGenres'].strip().split(','))\n",
    "    \n",
    "    min_len = min(len(genres1), len(genres2))  # the minimum of two lengths\n",
    "    if min_len == 0:\n",
    "        return 0.1  # I think return 0.1 instead of 0.0 is more appropriate (it's just my silly thought, maybe is not) \n",
    "    \n",
    "    common_genres = genres1 & genres2  # Find the overlapped genres\n",
    "    common_genres_num = len(common_genres)\n",
    "    \n",
    "    similarity = (common_genres_num / float(min_len))\n",
    "    \n",
    "    return round(similarity, 2)"
   ],
   "metadata": {
    "collapsed": false,
    "ExecuteTime": {
     "end_time": "2024-05-07T23:55:31.826843600Z",
     "start_time": "2024-05-07T23:55:31.817809800Z"
    }
   },
   "id": "f8eb90466ad651a4"
  },
  {
   "cell_type": "code",
   "execution_count": 23,
   "outputs": [],
   "source": [
    "class MyDataset(Dataset):\n",
    "    def __init__(self, data):\n",
    "        self.data = data\n",
    "    \n",
    "    def __len__(self):\n",
    "        return len(self.data)\n",
    "    \n",
    "    def __getitem__(self, idx):\n",
    "        return self.data[idx]"
   ],
   "metadata": {
    "collapsed": false,
    "ExecuteTime": {
     "end_time": "2024-05-07T23:55:32.270450900Z",
     "start_time": "2024-05-07T23:55:32.248898300Z"
    }
   },
   "id": "dc1ba6979aab3769"
  },
  {
   "cell_type": "markdown",
   "source": [
    "#### Now generate data for training. Randomly selecting 100 movies can actually generate (99 + 0) x 100 / 2 = 4950 data points\n",
    "By the way, I'm using the subset of movies here, and we can also use the full movies' dataset. It's the same thing, because the number of generated data points only related to the \"movies_num\" variable here."
   ],
   "metadata": {
    "collapsed": false
   },
   "id": "d94040b55a45fe3"
  },
  {
   "cell_type": "code",
   "execution_count": 24,
   "outputs": [
    {
     "name": "stdout",
     "output_type": "stream",
     "text": [
      "4950 data points in total\n",
      "<InputExample> label: 0.0, texts: Get on the Bus,Drama,washington d.c.,bus,march; Sleeper,Comedy,Romance,Science Fiction,cyrogenics,future,government,robot\n"
     ]
    }
   ],
   "source": [
    "movies_num = 100\n",
    "sample_index = np.random.choice(range(len(movies_5000)), size=movies_num, replace=False)\n",
    "sample_index = np.sort(sample_index)\n",
    "\n",
    "examples = []\n",
    "for i in sample_index:\n",
    "    movie1 = movies.iloc[i]\n",
    "    for j in sample_index:\n",
    "        if j > i:\n",
    "            movie2 = movies.iloc[j]\n",
    "            similarity = if_similar(movie1, movie2)\n",
    "            \n",
    "            examples.append(InputExample(texts=[movie1['title'] + ',' + movie1['AllGenres'] + ',' +  movie1['AllKeywords'], movie2['title'] + ',' + movie2['AllGenres'] + ',' + movie2['AllKeywords']], label=similarity))\n",
    "\n",
    "print(f'{len(examples)} data points in total')\n",
    "print(examples[2024])"
   ],
   "metadata": {
    "collapsed": false,
    "ExecuteTime": {
     "end_time": "2024-05-07T23:55:33.995377Z",
     "start_time": "2024-05-07T23:55:33.724794100Z"
    }
   },
   "id": "739b408a31e07354"
  },
  {
   "cell_type": "code",
   "execution_count": 25,
   "outputs": [
    {
     "data": {
      "text/plain": "'Get on the Bus,Drama,washington d.c.,bus,march'"
     },
     "execution_count": 25,
     "metadata": {},
     "output_type": "execute_result"
    }
   ],
   "source": [
    "text = examples[2024].texts[0]\n",
    "text"
   ],
   "metadata": {
    "collapsed": false,
    "ExecuteTime": {
     "end_time": "2024-05-07T23:55:36.467611200Z",
     "start_time": "2024-05-07T23:55:36.438138Z"
    }
   },
   "id": "7297720f01014a5c"
  },
  {
   "cell_type": "code",
   "execution_count": 26,
   "outputs": [
    {
     "name": "stdout",
     "output_type": "stream",
     "text": [
      "435 data points in total\n",
      "<InputExample> label: 0.5, texts: Ask the Dust,Drama,Romance,racism,kiss,italy,beach; The Cheetah Girls 2,Comedy,Drama,Family,Music,TV Movie,girl group,sequel,spain,music festival\n"
     ]
    }
   ],
   "source": [
    "movies_num_val = 30\n",
    "sample_index_val = np.random.choice(range(len(movies_5000)), size=movies_num_val, replace=False)\n",
    "sample_index_val = np.sort(sample_index_val)\n",
    "\n",
    "examples_val = []\n",
    "for i in sample_index_val:\n",
    "    movie1 = movies_5000.iloc[i]\n",
    "    for j in sample_index_val:\n",
    "        if j > i:\n",
    "            movie2 = movies_5000.iloc[j]\n",
    "            similarity = if_similar(movie1, movie2)\n",
    "            \n",
    "            examples_val.append(InputExample(texts=[movie1['title'] + ',' + movie1['AllGenres'] + ',' + movie1['AllKeywords'], movie2['title'] + ',' + movie2['AllGenres'] + ',' + movie2['AllKeywords']], label=similarity))\n",
    "\n",
    "print(f'{len(examples_val)} data points in total')\n",
    "print(examples_val[200])"
   ],
   "metadata": {
    "collapsed": false,
    "ExecuteTime": {
     "end_time": "2024-05-07T23:55:40.327821Z",
     "start_time": "2024-05-07T23:55:40.291997400Z"
    }
   },
   "id": "2a8652d973294834"
  },
  {
   "cell_type": "code",
   "execution_count": 27,
   "outputs": [
    {
     "name": "stdout",
     "output_type": "stream",
     "text": [
      "310\n"
     ]
    }
   ],
   "source": [
    "my_dataset = MyDataset(examples)\n",
    "train_loader = DataLoader(my_dataset, batch_size=16, shuffle=True)\n",
    "\n",
    "print(len(train_loader))"
   ],
   "metadata": {
    "collapsed": false,
    "ExecuteTime": {
     "end_time": "2024-05-07T23:55:42.562573400Z",
     "start_time": "2024-05-07T23:55:42.534511500Z"
    }
   },
   "id": "9f23ccb614ebfc69"
  },
  {
   "cell_type": "code",
   "execution_count": 28,
   "outputs": [],
   "source": [
    "logging.basicConfig(format='%(asctime)s - %(message)s',\n",
    "                    datefmt='%Y-%m-%d %H:%M:%S',\n",
    "                    level=logging.INFO,\n",
    "                    handlers=[LoggingHandler()])"
   ],
   "metadata": {
    "collapsed": false,
    "ExecuteTime": {
     "end_time": "2024-05-07T23:55:43.287414600Z",
     "start_time": "2024-05-07T23:55:43.258837800Z"
    }
   },
   "id": "3a297ead237fcaec"
  },
  {
   "cell_type": "code",
   "execution_count": 29,
   "outputs": [],
   "source": [
    "evaluator = evaluation.EmbeddingSimilarityEvaluator.from_input_examples(examples_val, name='evaluator1')"
   ],
   "metadata": {
    "collapsed": false,
    "ExecuteTime": {
     "end_time": "2024-05-07T23:55:45.328761800Z",
     "start_time": "2024-05-07T23:55:45.316207100Z"
    }
   },
   "id": "7344e63e640eb0af"
  },
  {
   "cell_type": "markdown",
   "source": [
    "#### The model.fit() here is FOR DEMONSTRATION ONLY.\n",
    "#### The REAL model was trained on Google Colab. It was trained using movies_num = 300 (44,850 training data in total). movies_num_val = 70 (2,415 validation data in total), and the model performance was validated every 400 batch. "
   ],
   "metadata": {
    "collapsed": false
   },
   "id": "11118b6bb63f2e48"
  },
  {
   "cell_type": "code",
   "execution_count": 28,
   "outputs": [
    {
     "data": {
      "text/plain": "Epoch:   0%|          | 0/5 [00:00<?, ?it/s]",
      "application/vnd.jupyter.widget-view+json": {
       "version_major": 2,
       "version_minor": 0,
       "model_id": "169557348f9b4886819e266392ee00f2"
      }
     },
     "metadata": {},
     "output_type": "display_data"
    },
    {
     "data": {
      "text/plain": "Iteration:   0%|          | 0/310 [00:00<?, ?it/s]",
      "application/vnd.jupyter.widget-view+json": {
       "version_major": 2,
       "version_minor": 0,
       "model_id": "97f786a651d54fc3a30749abe7ada955"
      }
     },
     "metadata": {},
     "output_type": "display_data"
    },
    {
     "name": "stdout",
     "output_type": "stream",
     "text": [
      "2024-05-05 11:53:40 - EmbeddingSimilarityEvaluator: Evaluating the model on the evaluator1 dataset in epoch 0 after 100 steps:\n",
      "2024-05-05 11:53:42 - Cosine-Similarity :\tPearson: 0.9287\tSpearman: 0.8457\n",
      "2024-05-05 11:53:42 - Manhattan-Distance:\tPearson: 0.9174\tSpearman: 0.8459\n",
      "2024-05-05 11:53:42 - Euclidean-Distance:\tPearson: 0.9170\tSpearman: 0.8441\n",
      "2024-05-05 11:53:42 - Dot-Product-Similarity:\tPearson: 0.9279\tSpearman: 0.8452\n",
      "2024-05-05 11:53:42 - Save model to model/training_nli_distilbert-model\n",
      "2024-05-05 11:54:00 - EmbeddingSimilarityEvaluator: Evaluating the model on the evaluator1 dataset in epoch 0 after 200 steps:\n",
      "2024-05-05 11:54:01 - Cosine-Similarity :\tPearson: 0.9267\tSpearman: 0.8453\n",
      "2024-05-05 11:54:01 - Manhattan-Distance:\tPearson: 0.9159\tSpearman: 0.8453\n",
      "2024-05-05 11:54:01 - Euclidean-Distance:\tPearson: 0.9157\tSpearman: 0.8436\n",
      "2024-05-05 11:54:01 - Dot-Product-Similarity:\tPearson: 0.9259\tSpearman: 0.8449\n",
      "2024-05-05 11:54:19 - EmbeddingSimilarityEvaluator: Evaluating the model on the evaluator1 dataset in epoch 0 after 300 steps:\n",
      "2024-05-05 11:54:21 - Cosine-Similarity :\tPearson: 0.9258\tSpearman: 0.8445\n",
      "2024-05-05 11:54:21 - Manhattan-Distance:\tPearson: 0.9159\tSpearman: 0.8447\n",
      "2024-05-05 11:54:21 - Euclidean-Distance:\tPearson: 0.9156\tSpearman: 0.8426\n",
      "2024-05-05 11:54:21 - Dot-Product-Similarity:\tPearson: 0.9252\tSpearman: 0.8438\n",
      "2024-05-05 11:54:22 - EmbeddingSimilarityEvaluator: Evaluating the model on the evaluator1 dataset after epoch 0:\n",
      "2024-05-05 11:54:24 - Cosine-Similarity :\tPearson: 0.9265\tSpearman: 0.8447\n",
      "2024-05-05 11:54:24 - Manhattan-Distance:\tPearson: 0.9169\tSpearman: 0.8450\n",
      "2024-05-05 11:54:24 - Euclidean-Distance:\tPearson: 0.9165\tSpearman: 0.8427\n",
      "2024-05-05 11:54:24 - Dot-Product-Similarity:\tPearson: 0.9259\tSpearman: 0.8441\n"
     ]
    },
    {
     "data": {
      "text/plain": "Iteration:   0%|          | 0/310 [00:00<?, ?it/s]",
      "application/vnd.jupyter.widget-view+json": {
       "version_major": 2,
       "version_minor": 0,
       "model_id": "ad049158010f4e15be3cc52918d3ae5f"
      }
     },
     "metadata": {},
     "output_type": "display_data"
    },
    {
     "name": "stdout",
     "output_type": "stream",
     "text": [
      "2024-05-05 11:54:42 - EmbeddingSimilarityEvaluator: Evaluating the model on the evaluator1 dataset in epoch 1 after 100 steps:\n",
      "2024-05-05 11:54:43 - Cosine-Similarity :\tPearson: 0.9287\tSpearman: 0.8453\n",
      "2024-05-05 11:54:43 - Manhattan-Distance:\tPearson: 0.9189\tSpearman: 0.8459\n",
      "2024-05-05 11:54:43 - Euclidean-Distance:\tPearson: 0.9185\tSpearman: 0.8437\n",
      "2024-05-05 11:54:43 - Dot-Product-Similarity:\tPearson: 0.9281\tSpearman: 0.8448\n",
      "2024-05-05 11:55:01 - EmbeddingSimilarityEvaluator: Evaluating the model on the evaluator1 dataset in epoch 1 after 200 steps:\n",
      "2024-05-05 11:55:02 - Cosine-Similarity :\tPearson: 0.9282\tSpearman: 0.8451\n",
      "2024-05-05 11:55:02 - Manhattan-Distance:\tPearson: 0.9167\tSpearman: 0.8458\n",
      "2024-05-05 11:55:02 - Euclidean-Distance:\tPearson: 0.9161\tSpearman: 0.8434\n",
      "2024-05-05 11:55:02 - Dot-Product-Similarity:\tPearson: 0.9275\tSpearman: 0.8448\n",
      "2024-05-05 11:55:20 - EmbeddingSimilarityEvaluator: Evaluating the model on the evaluator1 dataset in epoch 1 after 300 steps:\n",
      "2024-05-05 11:55:21 - Cosine-Similarity :\tPearson: 0.9276\tSpearman: 0.8449\n",
      "2024-05-05 11:55:21 - Manhattan-Distance:\tPearson: 0.9175\tSpearman: 0.8453\n",
      "2024-05-05 11:55:21 - Euclidean-Distance:\tPearson: 0.9170\tSpearman: 0.8432\n",
      "2024-05-05 11:55:21 - Dot-Product-Similarity:\tPearson: 0.9270\tSpearman: 0.8446\n",
      "2024-05-05 11:55:23 - EmbeddingSimilarityEvaluator: Evaluating the model on the evaluator1 dataset after epoch 1:\n",
      "2024-05-05 11:55:24 - Cosine-Similarity :\tPearson: 0.9277\tSpearman: 0.8449\n",
      "2024-05-05 11:55:24 - Manhattan-Distance:\tPearson: 0.9177\tSpearman: 0.8453\n",
      "2024-05-05 11:55:24 - Euclidean-Distance:\tPearson: 0.9171\tSpearman: 0.8433\n",
      "2024-05-05 11:55:24 - Dot-Product-Similarity:\tPearson: 0.9271\tSpearman: 0.8444\n"
     ]
    },
    {
     "data": {
      "text/plain": "Iteration:   0%|          | 0/310 [00:00<?, ?it/s]",
      "application/vnd.jupyter.widget-view+json": {
       "version_major": 2,
       "version_minor": 0,
       "model_id": "67c98043579d4f4997d0a67bb9ff9176"
      }
     },
     "metadata": {},
     "output_type": "display_data"
    },
    {
     "name": "stdout",
     "output_type": "stream",
     "text": [
      "2024-05-05 11:55:42 - EmbeddingSimilarityEvaluator: Evaluating the model on the evaluator1 dataset in epoch 2 after 100 steps:\n",
      "2024-05-05 11:55:43 - Cosine-Similarity :\tPearson: 0.9270\tSpearman: 0.8441\n",
      "2024-05-05 11:55:43 - Manhattan-Distance:\tPearson: 0.9165\tSpearman: 0.8451\n",
      "2024-05-05 11:55:43 - Euclidean-Distance:\tPearson: 0.9160\tSpearman: 0.8430\n",
      "2024-05-05 11:55:43 - Dot-Product-Similarity:\tPearson: 0.9264\tSpearman: 0.8438\n",
      "2024-05-05 11:56:01 - EmbeddingSimilarityEvaluator: Evaluating the model on the evaluator1 dataset in epoch 2 after 200 steps:\n",
      "2024-05-05 11:56:03 - Cosine-Similarity :\tPearson: 0.9278\tSpearman: 0.8453\n",
      "2024-05-05 11:56:03 - Manhattan-Distance:\tPearson: 0.9172\tSpearman: 0.8456\n",
      "2024-05-05 11:56:03 - Euclidean-Distance:\tPearson: 0.9168\tSpearman: 0.8437\n",
      "2024-05-05 11:56:03 - Dot-Product-Similarity:\tPearson: 0.9272\tSpearman: 0.8448\n",
      "2024-05-05 11:56:20 - EmbeddingSimilarityEvaluator: Evaluating the model on the evaluator1 dataset in epoch 2 after 300 steps:\n",
      "2024-05-05 11:56:22 - Cosine-Similarity :\tPearson: 0.9279\tSpearman: 0.8453\n",
      "2024-05-05 11:56:22 - Manhattan-Distance:\tPearson: 0.9180\tSpearman: 0.8455\n",
      "2024-05-05 11:56:22 - Euclidean-Distance:\tPearson: 0.9174\tSpearman: 0.8436\n",
      "2024-05-05 11:56:22 - Dot-Product-Similarity:\tPearson: 0.9273\tSpearman: 0.8448\n",
      "2024-05-05 11:56:23 - EmbeddingSimilarityEvaluator: Evaluating the model on the evaluator1 dataset after epoch 2:\n",
      "2024-05-05 11:56:25 - Cosine-Similarity :\tPearson: 0.9286\tSpearman: 0.8456\n",
      "2024-05-05 11:56:25 - Manhattan-Distance:\tPearson: 0.9191\tSpearman: 0.8458\n",
      "2024-05-05 11:56:25 - Euclidean-Distance:\tPearson: 0.9186\tSpearman: 0.8440\n",
      "2024-05-05 11:56:25 - Dot-Product-Similarity:\tPearson: 0.9280\tSpearman: 0.8451\n"
     ]
    },
    {
     "data": {
      "text/plain": "Iteration:   0%|          | 0/310 [00:00<?, ?it/s]",
      "application/vnd.jupyter.widget-view+json": {
       "version_major": 2,
       "version_minor": 0,
       "model_id": "b70c47b8910d45748e37e96791cc251b"
      }
     },
     "metadata": {},
     "output_type": "display_data"
    },
    {
     "name": "stdout",
     "output_type": "stream",
     "text": [
      "2024-05-05 11:56:43 - EmbeddingSimilarityEvaluator: Evaluating the model on the evaluator1 dataset in epoch 3 after 100 steps:\n",
      "2024-05-05 11:56:44 - Cosine-Similarity :\tPearson: 0.9283\tSpearman: 0.8456\n",
      "2024-05-05 11:56:44 - Manhattan-Distance:\tPearson: 0.9182\tSpearman: 0.8459\n",
      "2024-05-05 11:56:44 - Euclidean-Distance:\tPearson: 0.9176\tSpearman: 0.8438\n",
      "2024-05-05 11:56:44 - Dot-Product-Similarity:\tPearson: 0.9277\tSpearman: 0.8451\n",
      "2024-05-05 11:56:44 - Save model to model/training_nli_distilbert-model\n",
      "2024-05-05 11:57:02 - EmbeddingSimilarityEvaluator: Evaluating the model on the evaluator1 dataset in epoch 3 after 200 steps:\n",
      "2024-05-05 11:57:04 - Cosine-Similarity :\tPearson: 0.9292\tSpearman: 0.8456\n",
      "2024-05-05 11:57:04 - Manhattan-Distance:\tPearson: 0.9192\tSpearman: 0.8461\n",
      "2024-05-05 11:57:04 - Euclidean-Distance:\tPearson: 0.9186\tSpearman: 0.8439\n",
      "2024-05-05 11:57:04 - Dot-Product-Similarity:\tPearson: 0.9287\tSpearman: 0.8450\n",
      "2024-05-05 11:57:04 - Save model to model/training_nli_distilbert-model\n",
      "2024-05-05 11:57:22 - EmbeddingSimilarityEvaluator: Evaluating the model on the evaluator1 dataset in epoch 3 after 300 steps:\n",
      "2024-05-05 11:57:23 - Cosine-Similarity :\tPearson: 0.9295\tSpearman: 0.8455\n",
      "2024-05-05 11:57:23 - Manhattan-Distance:\tPearson: 0.9190\tSpearman: 0.8460\n",
      "2024-05-05 11:57:23 - Euclidean-Distance:\tPearson: 0.9184\tSpearman: 0.8440\n",
      "2024-05-05 11:57:23 - Dot-Product-Similarity:\tPearson: 0.9289\tSpearman: 0.8451\n",
      "2024-05-05 11:57:25 - EmbeddingSimilarityEvaluator: Evaluating the model on the evaluator1 dataset after epoch 3:\n",
      "2024-05-05 11:57:26 - Cosine-Similarity :\tPearson: 0.9291\tSpearman: 0.8454\n",
      "2024-05-05 11:57:26 - Manhattan-Distance:\tPearson: 0.9188\tSpearman: 0.8459\n",
      "2024-05-05 11:57:26 - Euclidean-Distance:\tPearson: 0.9183\tSpearman: 0.8439\n",
      "2024-05-05 11:57:26 - Dot-Product-Similarity:\tPearson: 0.9286\tSpearman: 0.8449\n"
     ]
    },
    {
     "data": {
      "text/plain": "Iteration:   0%|          | 0/310 [00:00<?, ?it/s]",
      "application/vnd.jupyter.widget-view+json": {
       "version_major": 2,
       "version_minor": 0,
       "model_id": "4b260de48dcb4ee09cf2b1cdfa866c86"
      }
     },
     "metadata": {},
     "output_type": "display_data"
    },
    {
     "name": "stdout",
     "output_type": "stream",
     "text": [
      "2024-05-05 11:57:44 - EmbeddingSimilarityEvaluator: Evaluating the model on the evaluator1 dataset in epoch 4 after 100 steps:\n",
      "2024-05-05 11:57:45 - Cosine-Similarity :\tPearson: 0.9293\tSpearman: 0.8453\n",
      "2024-05-05 11:57:45 - Manhattan-Distance:\tPearson: 0.9191\tSpearman: 0.8459\n",
      "2024-05-05 11:57:45 - Euclidean-Distance:\tPearson: 0.9186\tSpearman: 0.8439\n",
      "2024-05-05 11:57:45 - Dot-Product-Similarity:\tPearson: 0.9287\tSpearman: 0.8448\n",
      "2024-05-05 11:58:03 - EmbeddingSimilarityEvaluator: Evaluating the model on the evaluator1 dataset in epoch 4 after 200 steps:\n",
      "2024-05-05 11:58:04 - Cosine-Similarity :\tPearson: 0.9288\tSpearman: 0.8453\n",
      "2024-05-05 11:58:04 - Manhattan-Distance:\tPearson: 0.9183\tSpearman: 0.8459\n",
      "2024-05-05 11:58:04 - Euclidean-Distance:\tPearson: 0.9179\tSpearman: 0.8439\n",
      "2024-05-05 11:58:04 - Dot-Product-Similarity:\tPearson: 0.9282\tSpearman: 0.8447\n",
      "2024-05-05 11:58:23 - EmbeddingSimilarityEvaluator: Evaluating the model on the evaluator1 dataset in epoch 4 after 300 steps:\n",
      "2024-05-05 11:58:24 - Cosine-Similarity :\tPearson: 0.9292\tSpearman: 0.8455\n",
      "2024-05-05 11:58:24 - Manhattan-Distance:\tPearson: 0.9185\tSpearman: 0.8460\n",
      "2024-05-05 11:58:24 - Euclidean-Distance:\tPearson: 0.9180\tSpearman: 0.8439\n",
      "2024-05-05 11:58:24 - Dot-Product-Similarity:\tPearson: 0.9286\tSpearman: 0.8449\n",
      "2024-05-05 11:58:26 - EmbeddingSimilarityEvaluator: Evaluating the model on the evaluator1 dataset after epoch 4:\n",
      "2024-05-05 11:58:27 - Cosine-Similarity :\tPearson: 0.9292\tSpearman: 0.8455\n",
      "2024-05-05 11:58:27 - Manhattan-Distance:\tPearson: 0.9185\tSpearman: 0.8460\n",
      "2024-05-05 11:58:27 - Euclidean-Distance:\tPearson: 0.9180\tSpearman: 0.8439\n",
      "2024-05-05 11:58:27 - Dot-Product-Similarity:\tPearson: 0.9285\tSpearman: 0.8449\n"
     ]
    }
   ],
   "source": [
    "train_loss = losses.CosineSimilarityLoss(model=model)\n",
    "# optimizer = torch.optim.AdamW(model.parameters(), lr=1e-5)\n",
    "\n",
    "model.fit(\n",
    "    train_objectives=[(train_loader, train_loss)],\n",
    "    evaluator=evaluator,\n",
    "    epochs=5,\n",
    "    warmup_steps=100,\n",
    "    optimizer_class=torch.optim.AdamW,\n",
    "    optimizer_params={'lr': 1e-6},\n",
    "    evaluation_steps=100,\n",
    "    output_path='model/training_nli_distilbert-model'\n",
    ")"
   ],
   "metadata": {
    "collapsed": false,
    "ExecuteTime": {
     "end_time": "2024-05-05T18:58:27.395527400Z",
     "start_time": "2024-05-05T18:53:22.539899700Z"
    }
   },
   "id": "89b9a0e84ebe218d"
  },
  {
   "cell_type": "markdown",
   "source": [
    "## Now try the trained model:"
   ],
   "metadata": {
    "collapsed": false
   },
   "id": "1056782d93ca26d0"
  },
  {
   "cell_type": "code",
   "execution_count": 30,
   "outputs": [
    {
     "name": "stdout",
     "output_type": "stream",
     "text": [
      "2024-05-07 16:55:55 - Load pretrained SentenceTransformer: model/Final_model\n",
      "2024-05-07 16:55:56 - Use pytorch device_name: cuda\n"
     ]
    }
   ],
   "source": [
    "output_path='model/Final_model'\n",
    "\n",
    "new_model = SentenceTransformer(output_path).to(device)"
   ],
   "metadata": {
    "collapsed": false,
    "ExecuteTime": {
     "end_time": "2024-05-07T23:55:56.275929500Z",
     "start_time": "2024-05-07T23:55:55.625062500Z"
    }
   },
   "id": "3aebf9f7c15ca494"
  },
  {
   "cell_type": "code",
   "execution_count": 31,
   "outputs": [
    {
     "data": {
      "text/plain": "Batches:   0%|          | 0/1420 [00:00<?, ?it/s]",
      "application/vnd.jupyter.widget-view+json": {
       "version_major": 2,
       "version_minor": 0,
       "model_id": "221160cab7fa4dc39ce502eda103e283"
      }
     },
     "metadata": {},
     "output_type": "display_data"
    }
   ],
   "source": [
    "names_genres_keywords_all = movies['title'] + ',' + movies['AllGenres'] + ',' + movies['AllKeywords']\n",
    "names_genres_keywords_all = names_genres_keywords_all.tolist()\n",
    "\n",
    "new_embedding = model.encode(names_genres_keywords_all, show_progress_bar=True)\n",
    "new_embedding = np.array(new_embedding)"
   ],
   "metadata": {
    "collapsed": false,
    "ExecuteTime": {
     "end_time": "2024-05-07T23:57:00.249702Z",
     "start_time": "2024-05-07T23:55:58.817807100Z"
    }
   },
   "id": "1faa4661f5fbf41e"
  },
  {
   "cell_type": "code",
   "execution_count": 32,
   "outputs": [
    {
     "name": "stdout",
     "output_type": "stream",
     "text": [
      "The movie 6790: Love Actually \t Genres: Comedy,Romance,Drama\n",
      "\n",
      "Top 5 recommendations:\n",
      "8235.  It's All About Love                 Genres: Drama,Romance,Science Fiction,Thriller\n",
      "12081. Lust, Caution                       Genres: Action,Drama,Romance,Thriller\n",
      "8797.  Love at First Bite                  Genres: Romance,Comedy,Horror\n",
      "7282.  Laws of Attraction                  Genres: Action,Comedy,Romance,Thriller\n",
      "40797. Signed, Sealed, Delivered           Genres: Comedy,Drama,Romance,TV Movie\n"
     ]
    }
   ],
   "source": [
    "recommend_movies_with_index(movies, new_embedding, 6790, k=5)"
   ],
   "metadata": {
    "collapsed": false,
    "ExecuteTime": {
     "end_time": "2024-05-07T23:59:49.906265800Z",
     "start_time": "2024-05-07T23:59:49.757317800Z"
    }
   },
   "id": "8a6964334a8a304"
  },
  {
   "cell_type": "code",
   "execution_count": 33,
   "outputs": [
    {
     "name": "stdout",
     "output_type": "stream",
     "text": [
      "Top 5 recommendations:\n",
      "44139. Ghost Recon: Alpha                  Genres: Action,Science Fiction,Thriller,War\n",
      "5937.  Enigma                              Genres: Adventure,Drama,Action,Thriller,Foreign\n",
      "37433. Beyond                              Genres: Romance,Science Fiction,Drama\n",
      "32575. Deathline                           Genres: Action,Drama,Science Fiction,Thriller\n",
      "44217. Riding with Death                   Genres: Science Fiction,TV Movie,Action,Thriller\n"
     ]
    }
   ],
   "source": [
    "inputs = ['Calling Dr. Death', 'Rambo III', 'Morituri', 'Farscape: The Peacekeeper Wars']\n",
    "recommend_movies_with_titles(inputs, movies, new_embedding, model_=new_model, k=5)"
   ],
   "metadata": {
    "collapsed": false,
    "ExecuteTime": {
     "end_time": "2024-05-07T23:59:52.059865400Z",
     "start_time": "2024-05-07T23:59:51.846956500Z"
    }
   },
   "id": "a97f7a66d29f32e9"
  },
  {
   "cell_type": "code",
   "execution_count": 34,
   "outputs": [
    {
     "name": "stdout",
     "output_type": "stream",
     "text": [
      "Top 5 recommendations:\n",
      "28518. Arnold                              Genres: Thriller,Horror,Comedy,Mystery\n",
      "35023. The Hollow                          Genres: Horror,TV Movie\n",
      "19579. The Screaming Skull                 Genres: Thriller,Horror\n",
      "7565.  Bedlam                              Genres: Horror,Drama,Thriller\n",
      "43150. Eloise                              Genres: Horror,Mystery,Thriller\n"
     ]
    }
   ],
   "source": [
    "UserId = '17'\n",
    "recommend_movies_with_history(UserId, ratings_for_history, movies, new_embedding, k=5)"
   ],
   "metadata": {
    "collapsed": false,
    "ExecuteTime": {
     "end_time": "2024-05-07T23:59:52.901388100Z",
     "start_time": "2024-05-07T23:59:52.666483800Z"
    }
   },
   "id": "fb0c7dc14f610ba"
  },
  {
   "cell_type": "code",
   "execution_count": null,
   "outputs": [],
   "source": [],
   "metadata": {
    "collapsed": false
   },
   "id": "fd5a969b9efb5d3b"
  }
 ],
 "metadata": {
  "kernelspec": {
   "name": "ee541",
   "language": "python",
   "display_name": "EE541"
  },
  "language_info": {
   "codemirror_mode": {
    "name": "ipython",
    "version": 2
   },
   "file_extension": ".py",
   "mimetype": "text/x-python",
   "name": "python",
   "nbconvert_exporter": "python",
   "pygments_lexer": "ipython2",
   "version": "2.7.6"
  }
 },
 "nbformat": 4,
 "nbformat_minor": 5
}
